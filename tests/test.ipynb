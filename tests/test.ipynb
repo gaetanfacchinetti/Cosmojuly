{
 "cells": [
  {
   "cell_type": "code",
   "execution_count": null,
   "metadata": {},
   "outputs": [],
   "source": [
    "using BenchmarkTools\n",
    "include(\"../src/MyUnits.jl\")\n",
    "\n",
    "x_arr = 10 .^ (range(-2, stop=2, length=50))\n",
    "\n",
    "function f(x::Array, y::Real)\n",
    "    x .+ y\n",
    "end\n",
    "\n",
    "function f(x::Array, y::Array)\n",
    "    x + y\n",
    "end"
   ]
  },
  {
   "cell_type": "code",
   "execution_count": null,
   "metadata": {},
   "outputs": [],
   "source": [
    "using BenchmarkTools\n",
    "using Unitful\n",
    "\n",
    "import Unitful: DimensionlessQuantity, Temperature\n",
    "\n",
    "abstract type Patate end\n",
    "\n",
    "struct Example{T<:Real} <: Patate\n",
    "    a::DimensionlessQuantity{T}\n",
    "    c::DimensionlessQuantity{T}\n",
    "    b::Temperature{T}\n",
    "end\n",
    "\n",
    "struct Example2{T<:Real} <: Patate\n",
    "    a::T\n",
    "    b::T\n",
    "    c::T\n",
    "end\n",
    "\n",
    "struct Example3{T<:Real} <: Patate\n",
    "    a::T\n",
    "    b::Temperature{T}\n",
    "    c::T\n",
    "end\n",
    "\n",
    "\n",
    "function Example(a::Real, b::Real, c::Temperature{<:Real}) \n",
    "    return Example(promote(a, b, c)...)\n",
    "end \n",
    "\n",
    "Example2(a::Real, b::Real, c::Real) = Example2(promote(a, b, c)...)\n",
    "\n",
    "ex  = Example(2.3, 4//2,  4u\"K\")\n",
    "ex2 = Example2(2.3, 4, 4//2)\n",
    "ex3 = Example3(2.3, 4.0u\"K\", 2.0)\n",
    "\n",
    "\n",
    "function mult(p::Patate)\n",
    "    return p.a * p.c\n",
    "end\n",
    "\n",
    "@derived_dimension Mode dimension(1/u\"km\")\n",
    "power_law(amplitude::Real, index::Real, k::Mode{<:Real}) = amplitude * (k / 0.05 * Mpc)^(index-1) ## To be checked\n",
    "\n",
    "println(typeof(power_law))"
   ]
  },
  {
   "cell_type": "code",
   "execution_count": 2,
   "metadata": {},
   "outputs": [],
   "source": [
    "using BenchmarkTools\n",
    "\n",
    "using Unitful\n",
    "import Unitful: km, s, Gyr\n",
    "using UnitfulAstro: Mpc, Gpc, Msun, kpc\n",
    "\n",
    "include(\"../src/MyCosmology.jl\")\n",
    "include(\"../src/PowerSpectrum.jl\")\n",
    "#include(\"../src/TransferFunction.jl\")\n",
    "\n",
    "import .MyCosmology: FLRWPLANCK18\n"
   ]
  },
  {
   "cell_type": "code",
   "execution_count": null,
   "metadata": {},
   "outputs": [],
   "source": [
    "#@benchmark cosmo = MyCosmology.FlatFLRW(0.6736, 0.26447, 0.04930)\n",
    "PowerSpectrum.curvature_power_spectrum(0.2/Mpc)"
   ]
  },
  {
   "cell_type": "code",
   "execution_count": null,
   "metadata": {},
   "outputs": [],
   "source": [
    "using Plots\n",
    "\n",
    "z = 10 .^(range(-2,stop=5,length=100))\n",
    "\n",
    "println(FLRWPLANCK18.Ω_m0, \" \", FLRWPLANCK18.Ω_r0, \" \", FLRWPLANCK18.Ω_Λ0)\n",
    "\n",
    "Ω_r = MyCosmology.ρ_r.(z) ./ MyCosmology.ρ_c.(z)\n",
    "Ω_m = MyCosmology.Ω_m.(z)\n",
    "Ω_Λ = MyCosmology.Ω_Λ.(z)\n",
    "\n",
    "ρ_r = MyCosmology.ρ_r.(z)\n",
    "ρ_m = MyCosmology.ρ_m.(z)\n",
    "ρ_Λ = MyCosmology.ρ_Λ.(z)\n",
    "ρ_c = MyCosmology.ρ_c.(z)\n",
    "\n",
    "plot(z, Ω_r)\n",
    "plot!(z, Ω_m)\n",
    "plot!(z, Ω_Λ)\n",
    "\n",
    "\n",
    "plot!(size=(600, 400), xscale=:log10,  minorgrid=false)\n"
   ]
  },
  {
   "cell_type": "code",
   "execution_count": 4,
   "metadata": {},
   "outputs": [
    {
     "name": "stderr",
     "output_type": "stream",
     "text": [
      "WARNING: replacing module Halos.\n"
     ]
    },
    {
     "data": {
      "text/plain": [
       "BenchmarkTools.Trial: 10000 samples with 992 evaluations.\n",
       " Range \u001b[90m(\u001b[39m\u001b[36m\u001b[1mmin\u001b[22m\u001b[39m … \u001b[35mmax\u001b[39m\u001b[90m):  \u001b[39m\u001b[36m\u001b[1m39.987 ns\u001b[22m\u001b[39m … \u001b[35m 2.670 μs\u001b[39m  \u001b[90m┊\u001b[39m GC \u001b[90m(\u001b[39mmin … max\u001b[90m): \u001b[39m0.00% … 98.18%\n",
       " Time  \u001b[90m(\u001b[39m\u001b[34m\u001b[1mmedian\u001b[22m\u001b[39m\u001b[90m):     \u001b[39m\u001b[34m\u001b[1m41.666 ns              \u001b[22m\u001b[39m\u001b[90m┊\u001b[39m GC \u001b[90m(\u001b[39mmedian\u001b[90m):    \u001b[39m0.00%\n",
       " Time  \u001b[90m(\u001b[39m\u001b[32m\u001b[1mmean\u001b[22m\u001b[39m ± \u001b[32mσ\u001b[39m\u001b[90m):   \u001b[39m\u001b[32m\u001b[1m44.458 ns\u001b[22m\u001b[39m ± \u001b[32m71.456 ns\u001b[39m  \u001b[90m┊\u001b[39m GC \u001b[90m(\u001b[39mmean ± σ\u001b[90m):  \u001b[39m5.07% ±  3.10%\n",
       "\n",
       "  \u001b[39m▃\u001b[39m▆\u001b[39m▅\u001b[39m▂\u001b[39m \u001b[39m▁\u001b[39m \u001b[39m▆\u001b[34m█\u001b[39m\u001b[39m▄\u001b[39m▁\u001b[39m▁\u001b[39m▁\u001b[39m \u001b[39m▂\u001b[39m▄\u001b[39m▂\u001b[39m▁\u001b[39m▁\u001b[39m▂\u001b[39m▃\u001b[39m▂\u001b[32m▃\u001b[39m\u001b[39m▃\u001b[39m▁\u001b[39m \u001b[39m \u001b[39m \u001b[39m \u001b[39m \u001b[39m \u001b[39m \u001b[39m \u001b[39m \u001b[39m \u001b[39m \u001b[39m \u001b[39m \u001b[39m \u001b[39m \u001b[39m \u001b[39m \u001b[39m \u001b[39m \u001b[39m \u001b[39m \u001b[39m \u001b[39m \u001b[39m \u001b[39m \u001b[39m \u001b[39m \u001b[39m \u001b[39m \u001b[39m \u001b[39m \u001b[39m \u001b[39m \u001b[39m \u001b[39m \u001b[39m▂\n",
       "  \u001b[39m█\u001b[39m█\u001b[39m█\u001b[39m█\u001b[39m█\u001b[39m█\u001b[39m▇\u001b[39m█\u001b[34m█\u001b[39m\u001b[39m█\u001b[39m█\u001b[39m█\u001b[39m█\u001b[39m█\u001b[39m█\u001b[39m█\u001b[39m█\u001b[39m█\u001b[39m█\u001b[39m█\u001b[39m█\u001b[39m█\u001b[32m█\u001b[39m\u001b[39m█\u001b[39m█\u001b[39m█\u001b[39m▇\u001b[39m▇\u001b[39m▇\u001b[39m▇\u001b[39m▆\u001b[39m▇\u001b[39m▆\u001b[39m▇\u001b[39m▅\u001b[39m▆\u001b[39m▇\u001b[39m▆\u001b[39m▇\u001b[39m▆\u001b[39m▆\u001b[39m▅\u001b[39m▅\u001b[39m▅\u001b[39m▃\u001b[39m▄\u001b[39m▄\u001b[39m▄\u001b[39m▄\u001b[39m▅\u001b[39m▃\u001b[39m▄\u001b[39m▃\u001b[39m▄\u001b[39m▅\u001b[39m▄\u001b[39m▄\u001b[39m▄\u001b[39m▃\u001b[39m \u001b[39m█\n",
       "  40 ns\u001b[90m        \u001b[39m\u001b[90mHistogram: \u001b[39m\u001b[90m\u001b[1mlog(\u001b[22m\u001b[39m\u001b[90mfrequency\u001b[39m\u001b[90m\u001b[1m)\u001b[22m\u001b[39m\u001b[90m by time\u001b[39m        52 ns \u001b[0m\u001b[1m<\u001b[22m\n",
       "\n",
       " Memory estimate\u001b[90m: \u001b[39m\u001b[33m48 bytes\u001b[39m, allocs estimate\u001b[90m: \u001b[39m\u001b[33m2\u001b[39m."
      ]
     },
     "metadata": {},
     "output_type": "display_data"
    }
   ],
   "source": [
    "using BenchmarkTools\n",
    "include(\"../src/Halos.jl\")\n",
    "\n",
    "Halos.cΔ_from_ρs(10 * Msun / kpc^3)\n",
    "Halos.ρs_from_cΔ(10)\n",
    "Halos.rs_from_cΔ_and_mΔ(10., 10. * Msun)\n",
    "h = Halos.Halo_from_mΔ_and_cΔ(Halos.NFWProfile, 1e+12 * Msun, 10) \n",
    "\n",
    "@benchmark h.ρs"
   ]
  },
  {
   "cell_type": "code",
   "execution_count": null,
   "metadata": {},
   "outputs": [],
   "source": [
    "using NLsolve\n",
    "using BenchmarkTools\n",
    "\n",
    "function f!(F, x)\n",
    "    F[1] = (x[1]+3)*(x[2]^3-7)+18\n",
    "    F[2] = sin(x[2]*exp(x[1])-1)\n",
    "end\n",
    "\n",
    "function j!(J, x)\n",
    "    J[1, 1] = x[2]^3-7\n",
    "    J[1, 2] = 3*x[2]^2*(x[1]+3)\n",
    "    u = exp(x[1])*cos(x[2]*exp(x[1])-1)\n",
    "    J[2, 1] = x[2]*u\n",
    "    J[2, 2] = u\n",
    "end\n",
    "\n",
    "nlsolve(f!, j!, [ 0.1; 1.2])\n",
    "println(nlsolve(f!, [ 0.1; 1.2]))\n",
    "\n",
    "func(x, y) = ((x+3)*(y^3-7)+18, sin(y*exp(x)-1))\n",
    "println(func(0, 1))"
   ]
  },
  {
   "cell_type": "code",
   "execution_count": null,
   "metadata": {},
   "outputs": [],
   "source": [
    "using Unitful\n",
    "import Unitful: km, s, Gyr, rad\n",
    "import UnitfulAstro: Mpc, Gpc, Msun, kpc, pc\n",
    "\n",
    "D1 = 3.0 \n",
    "D2 = 6.0 \n",
    "DS = 8.0 \n",
    "\n",
    "M1 = 100.0\n",
    "M2 = 100.0\n",
    "\n",
    "# For the first test let us imagine everything is in the same plane\n",
    "\n",
    "y1 = [1e-8, 0.] \n",
    "y2 = [0, 1e-8] \n",
    "\n",
    "function alpha(x, y, M)\n",
    "    return 4 .* M * (x .- y) ./ sum((x .- y) .* (x .- y)) * 4.3e-6 / (3e+6)^2  \n",
    "end\n",
    "\n",
    "function f!(F, x)\n",
    "    F[1] = x[1] -  D1 * (1. - D1/DS) * alpha([x[1], x[2]], y1, M1)[1] + D1 * (1. - D2/DS)*alpha([x[3], x[4]], y2, M2)[1]\n",
    "    F[2] = x[2] -  D1 * (1. - D1/DS) * alpha([x[1], x[2]], y1, M1)[2] + D1 * (1. - D2/DS)*alpha([x[3], x[4]], y2, M2)[2]\n",
    "    F[3] = x[3] -  D2 * (D1/D2 - D2/DS) * alpha([x[1], x[2]], y1, M1)[1] + D2 * (1. - D2/DS)*alpha([x[3], x[4]], y2, M2)[1]\n",
    "    F[4] = x[4] -  D2 * (D1/D2 - D2/DS) * alpha([x[1], x[2]], y1, M1)[2] + D2 * (1. - D2/DS)*alpha([x[3], x[4]], y2, M2)[2]\n",
    "end\n",
    "\n",
    "function theta(x, D1)\n",
    "    return x[1:2] ./ D1 * 206265e+6\n",
    "end\n",
    "\n",
    "res = nlsolve(f!, [0., 0., 0., 0.]).zero\n",
    "\n",
    "println(theta(res, D1))\n"
   ]
  },
  {
   "cell_type": "code",
   "execution_count": 3,
   "metadata": {},
   "outputs": [
    {
     "name": "stdout",
     "output_type": "stream",
     "text": [
      "Halo{Float64}(1.2 M⊙ kpc⁻³, 4.0 kpc)\n"
     ]
    },
    {
     "data": {
      "text/plain": [
       "BenchmarkTools.Trial: 10000 samples with 977 evaluations.\n",
       " Range \u001b[90m(\u001b[39m\u001b[36m\u001b[1mmin\u001b[22m\u001b[39m … \u001b[35mmax\u001b[39m\u001b[90m):  \u001b[39m\u001b[36m\u001b[1m69.004 ns\u001b[22m\u001b[39m … \u001b[35m 1.313 μs\u001b[39m  \u001b[90m┊\u001b[39m GC \u001b[90m(\u001b[39mmin … max\u001b[90m): \u001b[39m0.00% … 94.10%\n",
       " Time  \u001b[90m(\u001b[39m\u001b[34m\u001b[1mmedian\u001b[22m\u001b[39m\u001b[90m):     \u001b[39m\u001b[34m\u001b[1m74.378 ns              \u001b[22m\u001b[39m\u001b[90m┊\u001b[39m GC \u001b[90m(\u001b[39mmedian\u001b[90m):    \u001b[39m0.00%\n",
       " Time  \u001b[90m(\u001b[39m\u001b[32m\u001b[1mmean\u001b[22m\u001b[39m ± \u001b[32mσ\u001b[39m\u001b[90m):   \u001b[39m\u001b[32m\u001b[1m77.609 ns\u001b[22m\u001b[39m ± \u001b[32m34.445 ns\u001b[39m  \u001b[90m┊\u001b[39m GC \u001b[90m(\u001b[39mmean ± σ\u001b[90m):  \u001b[39m1.38% ±  2.94%\n",
       "\n",
       "  \u001b[39m▂\u001b[39m▃\u001b[39m \u001b[39m \u001b[39m \u001b[39m \u001b[39m▂\u001b[39m \u001b[39m▂\u001b[39m▂\u001b[39m█\u001b[34m█\u001b[39m\u001b[39m▂\u001b[39m▂\u001b[39m▃\u001b[39m▄\u001b[39m▆\u001b[39m▄\u001b[32m▂\u001b[39m\u001b[39m▂\u001b[39m▃\u001b[39m▄\u001b[39m▆\u001b[39m▃\u001b[39m▁\u001b[39m▁\u001b[39m▁\u001b[39m▁\u001b[39m▁\u001b[39m▁\u001b[39m \u001b[39m \u001b[39m \u001b[39m \u001b[39m \u001b[39m \u001b[39m \u001b[39m \u001b[39m \u001b[39m \u001b[39m \u001b[39m \u001b[39m \u001b[39m \u001b[39m \u001b[39m \u001b[39m \u001b[39m \u001b[39m \u001b[39m \u001b[39m \u001b[39m \u001b[39m \u001b[39m \u001b[39m \u001b[39m \u001b[39m \u001b[39m \u001b[39m \u001b[39m \u001b[39m▂\n",
       "  \u001b[39m█\u001b[39m█\u001b[39m▅\u001b[39m▄\u001b[39m▅\u001b[39m▅\u001b[39m█\u001b[39m█\u001b[39m█\u001b[39m█\u001b[39m█\u001b[34m█\u001b[39m\u001b[39m█\u001b[39m█\u001b[39m█\u001b[39m█\u001b[39m█\u001b[39m█\u001b[32m█\u001b[39m\u001b[39m█\u001b[39m█\u001b[39m█\u001b[39m█\u001b[39m█\u001b[39m█\u001b[39m█\u001b[39m█\u001b[39m█\u001b[39m█\u001b[39m█\u001b[39m█\u001b[39m█\u001b[39m▇\u001b[39m▇\u001b[39m▇\u001b[39m▇\u001b[39m▆\u001b[39m▆\u001b[39m▆\u001b[39m▆\u001b[39m▆\u001b[39m▅\u001b[39m▆\u001b[39m▄\u001b[39m▅\u001b[39m▆\u001b[39m▆\u001b[39m▅\u001b[39m▃\u001b[39m▅\u001b[39m▅\u001b[39m▄\u001b[39m▃\u001b[39m▄\u001b[39m▃\u001b[39m▄\u001b[39m▅\u001b[39m▄\u001b[39m▃\u001b[39m \u001b[39m█\n",
       "  69 ns\u001b[90m        \u001b[39m\u001b[90mHistogram: \u001b[39m\u001b[90m\u001b[1mlog(\u001b[22m\u001b[39m\u001b[90mfrequency\u001b[39m\u001b[90m\u001b[1m)\u001b[22m\u001b[39m\u001b[90m by time\u001b[39m        97 ns \u001b[0m\u001b[1m<\u001b[22m\n",
       "\n",
       " Memory estimate\u001b[90m: \u001b[39m\u001b[33m48 bytes\u001b[39m, allocs estimate\u001b[90m: \u001b[39m\u001b[33m3\u001b[39m."
      ]
     },
     "metadata": {},
     "output_type": "display_data"
    }
   ],
   "source": [
    "using Unitful\n",
    "import Unitful: Length, Density, Mass\n",
    "import UnitfulAstro: Mpc, Gpc, Msun, kpc, pc\n",
    "using BenchmarkTools\n",
    "\n",
    "abstract type MyType{T<:Real} end\n",
    "\n",
    "struct MyOwnSubType{T<:Real} <: MyType{T}\n",
    "    a::T\n",
    "    b::T\n",
    "end\n",
    "\n",
    "MyOwnSubType(a::Real, b::Real) = MyOwnSubType(promote(a, b)...)\n",
    "example_a::MyType = MyOwnSubType(1.2, 3)\n",
    "\n",
    "MyOwnSubType{Float16} <: MyType\n",
    "\n",
    "struct Halo{T<:Real}\n",
    "    ρs::Density{T}\n",
    "    rs::Length{T}\n",
    "end\n",
    "\n",
    "ρs_0 = Msun / kpc^3\n",
    "rs_0 = kpc\n",
    "\n",
    "#Halo(ρs::Density{<:Real}, rs::Length{<:Real}) = Halo(promote(ρs/ρs_0, rs/rs_0)...)\n",
    "#Halo(ρs::Real, rs::Real) = Halo(promote(ρs, rs)...)\n",
    "\n",
    "halo = Halo(1.2 * Msun / kpc^3, 4.0 * kpc)\n",
    "\n",
    "println(halo)\n",
    "\n",
    "mass(h::Halo) = 4. / 3. * pi * h.ρs * h.rs^3 #* Msun \n",
    "\n",
    "@benchmark mass(halo)\n"
   ]
  },
  {
   "cell_type": "code",
   "execution_count": 12,
   "metadata": {},
   "outputs": [
    {
     "ename": "ErrorException",
     "evalue": "promotion of types Quantity{Float64, 𝐋, Unitful.FreeUnits{(m,), 𝐋, nothing}} and UnionAll failed to change any arguments",
     "output_type": "error",
     "traceback": [
      "promotion of types Quantity{Float64, 𝐋, Unitful.FreeUnits{(m,), 𝐋, nothing}} and UnionAll failed to change any arguments\n",
      "\n",
      "Stacktrace:\n",
      " [1] error(::String, ::String, ::String)\n",
      "   @ Base ./error.jl:44\n",
      " [2] sametype_error(input::Tuple{Quantity{Float64, 𝐋, Unitful.FreeUnits{(m,), 𝐋, nothing}}, UnionAll})\n",
      "   @ Base ./promotion.jl:383\n",
      " [3] not_sametype(x::Tuple{Quantity{Float64, 𝐋, Unitful.FreeUnits{(m,), 𝐋, nothing}}, UnionAll}, y::Tuple{Quantity{Float64, 𝐋, Unitful.FreeUnits{(m,), 𝐋, nothing}}, UnionAll})\n",
      "   @ Base ./promotion.jl:377\n",
      " [4] promote(x::Quantity{Float64, 𝐋, Unitful.FreeUnits{(m,), 𝐋, nothing}}, y::Type)\n",
      "   @ Base ./promotion.jl:360\n",
      " [5] top-level scope\n",
      "   @ ~/Documents/work/codes/env_DarkUniverse/Cosmojuly/tests/test.ipynb:10"
     ]
    }
   ],
   "source": [
    "using Unitful\n",
    "\n",
    "length_value = 5.0\n",
    "mass_value = 2.0\n",
    "\n",
    "length = length_value * u\"m\"\n",
    "mass = mass_value * u\"kg\"\n",
    "\n",
    "promoted_type = promote_type(eltype(length), eltype(mass))\n",
    "promoted_length = promote(length, promoted_type)\n",
    "promoted_mass = promote(mass, promoted_type)\n"
   ]
  },
  {
   "cell_type": "code",
   "execution_count": 3,
   "metadata": {},
   "outputs": [
    {
     "data": {
      "text/plain": [
       "(Float64, Real)"
      ]
     },
     "metadata": {},
     "output_type": "display_data"
    }
   ],
   "source": []
  },
  {
   "cell_type": "code",
   "execution_count": null,
   "metadata": {},
   "outputs": [],
   "source": []
  }
 ],
 "metadata": {
  "kernelspec": {
   "display_name": "Julia 1.8.5",
   "language": "julia",
   "name": "julia-1.8"
  },
  "language_info": {
   "file_extension": ".jl",
   "mimetype": "application/julia",
   "name": "julia",
   "version": "1.8.5"
  },
  "orig_nbformat": 4
 },
 "nbformat": 4,
 "nbformat_minor": 2
}

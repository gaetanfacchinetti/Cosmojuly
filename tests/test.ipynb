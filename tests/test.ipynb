{
 "cells": [
  {
   "cell_type": "code",
   "execution_count": null,
   "metadata": {},
   "outputs": [],
   "source": [
    "using BenchmarkTools\n",
    "\n",
    "x_arr = 10 .^ (range(-2, stop=2, length=50))\n",
    "\n",
    "function f(x::Array, y::Real)\n",
    "    x .+ y\n",
    "end\n",
    "\n",
    "function f(x::Array, y::Array)\n",
    "    x + y\n",
    "end\n",
    "\n",
    "my_func(x::Real, y::Real, z::Real) = x * y /z\n",
    "my_func(x::T, y::T, z::T) where {T<:Real} = x * y /z\n",
    "\n",
    "@benchmark my_func(2//3, 2.0, 3.14)"
   ]
  },
  {
   "cell_type": "code",
   "execution_count": null,
   "metadata": {},
   "outputs": [],
   "source": [
    "using BenchmarkTools\n",
    "using Unitful\n",
    "\n",
    "import Unitful: DimensionlessQuantity, Temperature\n",
    "\n",
    "abstract type Patate end\n",
    "\n",
    "struct Example{T<:Real} <: Patate\n",
    "    a::DimensionlessQuantity{T}\n",
    "    c::DimensionlessQuantity{T}\n",
    "    b::Temperature{T}\n",
    "end\n",
    "\n",
    "struct Example2{T<:Real} <: Patate\n",
    "    a::T\n",
    "    b::T\n",
    "    c::T\n",
    "end\n",
    "\n",
    "struct Example3{T<:Real} <: Patate\n",
    "    a::T\n",
    "    b::Temperature{T}\n",
    "    c::T\n",
    "end\n",
    "\n",
    "\n",
    "function Example(a::Real, b::Real, c::Temperature{<:Real}) \n",
    "    return Example(promote(a, b, c)...)\n",
    "end \n",
    "\n",
    "Example2(a::Real, b::Real, c::Real) = Example2(promote(a, b, c)...)\n",
    "\n",
    "ex  = Example(2.3, 4//2,  4u\"K\")\n",
    "ex2 = Example2(2.3, 4, 4//2)\n",
    "ex3 = Example3(2.3, 4.0u\"K\", 2.0)\n",
    "\n",
    "\n",
    "function mult(p::Patate)\n",
    "    return p.a * p.c\n",
    "end\n",
    "\n",
    "@derived_dimension Mode dimension(1/u\"km\")\n",
    "power_law(amplitude::Real, index::Real, k::Mode{<:Real}) = amplitude * (k / 0.05 * Mpc)^(index-1) ## To be checked\n",
    "\n",
    "println(typeof(power_law))"
   ]
  },
  {
   "cell_type": "code",
   "execution_count": null,
   "metadata": {},
   "outputs": [],
   "source": [
    "using BenchmarkTools\n",
    "\n",
    "using Unitful\n",
    "import Unitful: km, s, Gyr\n",
    "using UnitfulAstro: Mpc, Gpc, Msun, kpc\n",
    "\n",
    "include(\"../src/MyCosmology.jl\")\n",
    "include(\"../src/TransferFunction.jl\")\n",
    "include(\"../src/PowerSpectrum.jl\")\n",
    "include(\"../src/FSL.jl\")\n",
    "\n",
    "using .MyCosmology\n",
    "using .TransferFunction\n",
    "using .PowerSpectrum\n",
    "using .FSLModel\n",
    "\n",
    "cosmology = MyCosmology.planck18\n",
    "\n",
    "println(typeof(cosmology))\n",
    "parameters_TF = TransferFunction.ParametersEH98(cosmology)\n",
    "TransferFunction.transfer_function(0.4)\n",
    "\n",
    "println(MyCosmology.z_eq_mr(cosmology))\n",
    "println(MyCosmology.k_eq_mr_Mpc(cosmology))\n",
    "println(parameters_TF.k_Silk_Mpc)\n",
    "\n",
    "#@benchmark PowerSpectrum.matter_power_spectrum(0.1, approximate_growth_factor = true)\n"
   ]
  },
  {
   "cell_type": "code",
   "execution_count": 1,
   "metadata": {},
   "outputs": [
    {
     "data": {
      "text/plain": [
       "0.1353352832366127"
      ]
     },
     "metadata": {},
     "output_type": "display_data"
    }
   ],
   "source": [
    "using BenchmarkTools\n",
    "\n",
    "using Unitful\n",
    "import Unitful: km, s, Gyr\n",
    "using UnitfulAstro: Mpc, Gpc, Msun, kpc\n",
    "\n",
    "include(\"../src/Cosmojuly.jl\")\n",
    "\n",
    "import .Cosmojuly as cj\n",
    "\n",
    "#@benchmark cj.matter_power_spectrum(0.1, 0, 0.1, 0.9, with_baryons=false)\n",
    "cj.window_function(2.0, cj.Exponential)"
   ]
  },
  {
   "cell_type": "code",
   "execution_count": null,
   "metadata": {},
   "outputs": [],
   "source": [
    "using Plots\n",
    "\n",
    "k = 10 .^(range(-4,stop=1,length=5000))\n",
    "\n",
    "transfer_function_trivial(k_Mpc::Real, p::TransferFunction.ParametersEH98{<:Real}; with_baryons::Bool = false) = 1\n",
    "\n",
    "#plot(k, abs.(TransferFunction.transfer_function.(k, with_baryons=true)), yscale=:log10, xscale=:log10)\n",
    "plot(k, PowerSpectrum.matter_power_spectrum.(k, with_baryons=false), yscale=:log10, xscale=:log10)\n",
    "plot!(k, PowerSpectrum.matter_power_spectrum.(k, transfer_function=transfer_function_trivial), yscale=:log10, xscale=:log10)\n",
    "plot!(k, PowerSpectrum.curvature_power_spectrum.(k), yscale=:log10, xscale=:log10)"
   ]
  },
  {
   "cell_type": "code",
   "execution_count": null,
   "metadata": {},
   "outputs": [],
   "source": [
    "log(exp(1.0))"
   ]
  },
  {
   "cell_type": "code",
   "execution_count": null,
   "metadata": {},
   "outputs": [],
   "source": [
    "using Plots\n",
    "\n",
    "z = 10 .^(range(-2,stop=4,length=100))\n",
    "\n",
    "\n",
    "Ω_r = MyCosmology.Ω_r.(z)\n",
    "Ω_m = MyCosmology.Ω_m.(z)\n",
    "Ω_Λ = MyCosmology.Ω_Λ.(z)\n",
    "\n",
    "ρ_r = MyCosmology.ρ_r_Msun_Mpc3.(z)\n",
    "ρ_m = MyCosmology.ρ_m_Msun_Mpc3.(z)\n",
    "ρ_Λ = MyCosmology.ρ_Λ_Msun_Mpc3.(z)\n",
    "ρ_c = MyCosmology.ρ_c_Msun_Mpc3.(z)\n",
    "\n",
    "plot(z, MyCosmology.growth_factor.(z).*(1 .+z), xscale=:log10, color=:blue)\n",
    "plot!(z, MyCosmology.growth_factor_Carroll.(z).*(1 .+z), xscale=:log10, yscale=:log10, color=:red)"
   ]
  },
  {
   "cell_type": "code",
   "execution_count": 1,
   "metadata": {},
   "outputs": [
    {
     "name": "stdout",
     "output_type": "stream",
     "text": [
      "3\n"
     ]
    }
   ],
   "source": []
  },
  {
   "cell_type": "code",
   "execution_count": null,
   "metadata": {},
   "outputs": [],
   "source": [
    "using NLsolve\n",
    "using BenchmarkTools\n",
    "\n",
    "function f!(F, x)\n",
    "    F[1] = (x[1]+3)*(x[2]^3-7)+18\n",
    "    F[2] = sin(x[2]*exp(x[1])-1)\n",
    "end\n",
    "\n",
    "function j!(J, x)\n",
    "    J[1, 1] = x[2]^3-7\n",
    "    J[1, 2] = 3*x[2]^2*(x[1]+3)\n",
    "    u = exp(x[1])*cos(x[2]*exp(x[1])-1)\n",
    "    J[2, 1] = x[2]*u\n",
    "    J[2, 2] = u\n",
    "end\n",
    "\n",
    "nlsolve(f!, j!, [ 0.1; 1.2])\n",
    "println(nlsolve(f!, [ 0.1; 1.2]))\n",
    "\n",
    "func(x, y) = ((x+3)*(y^3-7)+18, sin(y*exp(x)-1))\n",
    "println(func(0, 1))"
   ]
  },
  {
   "cell_type": "code",
   "execution_count": null,
   "metadata": {},
   "outputs": [],
   "source": [
    "using Unitful\n",
    "import Unitful: km, s, Gyr, rad\n",
    "import UnitfulAstro: Mpc, Gpc, Msun, kpc, pc\n",
    "\n",
    "D1 = 3.0 \n",
    "D2 = 6.0 \n",
    "DS = 8.0 \n",
    "\n",
    "M1 = 100.0\n",
    "M2 = 100.0\n",
    "\n",
    "# For the first test let us imagine everything is in the same plane\n",
    "\n",
    "y1 = [1e-8, 0.] \n",
    "y2 = [0, 1e-8] \n",
    "\n",
    "function alpha(x, y, M)\n",
    "    return 4 .* M * (x .- y) ./ sum((x .- y) .* (x .- y)) * 4.3e-6 / (3e+6)^2  \n",
    "end\n",
    "\n",
    "function f!(F, x)\n",
    "    F[1] = x[1] -  D1 * (1. - D1/DS) * alpha([x[1], x[2]], y1, M1)[1] + D1 * (1. - D2/DS)*alpha([x[3], x[4]], y2, M2)[1]\n",
    "    F[2] = x[2] -  D1 * (1. - D1/DS) * alpha([x[1], x[2]], y1, M1)[2] + D1 * (1. - D2/DS)*alpha([x[3], x[4]], y2, M2)[2]\n",
    "    F[3] = x[3] -  D2 * (D1/D2 - D2/DS) * alpha([x[1], x[2]], y1, M1)[1] + D2 * (1. - D2/DS)*alpha([x[3], x[4]], y2, M2)[1]\n",
    "    F[4] = x[4] -  D2 * (D1/D2 - D2/DS) * alpha([x[1], x[2]], y1, M1)[2] + D2 * (1. - D2/DS)*alpha([x[3], x[4]], y2, M2)[2]\n",
    "end\n",
    "\n",
    "function theta(x, D1)\n",
    "    return x[1:2] ./ D1 * 206265e+6\n",
    "end\n",
    "\n",
    "res = nlsolve(f!, [0., 0., 0., 0.]).zero\n",
    "\n",
    "println(theta(res, D1))\n"
   ]
  },
  {
   "cell_type": "code",
   "execution_count": null,
   "metadata": {},
   "outputs": [],
   "source": [
    "using Unitful\n",
    "import Unitful: Length, Density, Mass\n",
    "import UnitfulAstro: Mpc, Gpc, Msun, kpc, pc\n",
    "using BenchmarkTools\n",
    "\n",
    "abstract type MyType{T<:Real} end\n",
    "\n",
    "struct MyOwnSubType{T<:Real} <: MyType{T}\n",
    "    a::T\n",
    "    b::T\n",
    "end\n",
    "\n",
    "MyOwnSubType(a::Real, b::Real) = MyOwnSubType(promote(a, b)...)\n",
    "example_a::MyType = MyOwnSubType(1.2, 3)\n",
    "\n",
    "MyOwnSubType{Float16} <: MyType\n",
    "\n",
    "struct Halo{T<:Real}\n",
    "    ρs::Density{T}\n",
    "    rs::Length{T}\n",
    "end\n",
    "\n",
    "ρs_0 = Msun / kpc^3\n",
    "rs_0 = kpc\n",
    "\n",
    "#Halo(ρs::Density{<:Real}, rs::Length{<:Real}) = Halo(promote(ρs/ρs_0, rs/rs_0)...)\n",
    "#Halo(ρs::Real, rs::Real) = Halo(promote(ρs, rs)...)\n",
    "\n",
    "halo = Halo(1.2 * Msun / kpc^3, 4.0 * kpc)\n",
    "\n",
    "println(halo)\n",
    "\n",
    "mass(h::Halo) = 4. / 3. * pi * h.ρs * h.rs^3 #* Msun \n",
    "\n",
    "@benchmark mass(halo)\n"
   ]
  },
  {
   "cell_type": "code",
   "execution_count": null,
   "metadata": {},
   "outputs": [],
   "source": [
    "using Unitful\n",
    "\n",
    "length_value = 5.0\n",
    "mass_value = 2.0\n",
    "\n",
    "length = length_value * u\"m\"\n",
    "mass = mass_value * u\"kg\"\n",
    "\n",
    "promoted_type = promote_type(eltype(length), eltype(mass))\n",
    "promoted_length = promote(length, promoted_type)\n",
    "promoted_mass = promote(mass, promoted_type)\n"
   ]
  },
  {
   "cell_type": "code",
   "execution_count": null,
   "metadata": {},
   "outputs": [],
   "source": []
  },
  {
   "cell_type": "code",
   "execution_count": null,
   "metadata": {},
   "outputs": [],
   "source": []
  }
 ],
 "metadata": {
  "kernelspec": {
   "display_name": "Julia 1.8.5",
   "language": "julia",
   "name": "julia-1.8"
  },
  "language_info": {
   "file_extension": ".jl",
   "mimetype": "application/julia",
   "name": "julia",
   "version": "1.8.5"
  },
  "orig_nbformat": 4
 },
 "nbformat": 4,
 "nbformat_minor": 2
}

{
 "cells": [
  {
   "cell_type": "code",
   "execution_count": null,
   "metadata": {},
   "outputs": [],
   "source": [
    "using BenchmarkTools\n",
    "include(\"../src/MyUnits.jl\")\n",
    "\n",
    "x_arr = 10 .^ (range(-2, stop=2, length=50))\n",
    "\n",
    "function f(x::Array, y::Real)\n",
    "    x .+ y\n",
    "end\n",
    "\n",
    "function f(x::Array, y::Array)\n",
    "    x + y\n",
    "end"
   ]
  },
  {
   "cell_type": "code",
   "execution_count": null,
   "metadata": {},
   "outputs": [],
   "source": [
    "using BenchmarkTools\n",
    "using Unitful\n",
    "\n",
    "import Unitful: DimensionlessQuantity, Temperature\n",
    "\n",
    "abstract type Patate end\n",
    "\n",
    "struct Example{T<:Real} <: Patate\n",
    "    a::DimensionlessQuantity{T}\n",
    "    c::DimensionlessQuantity{T}\n",
    "    b::Temperature{T}\n",
    "end\n",
    "\n",
    "struct Example2{T<:Real} <: Patate\n",
    "    a::T\n",
    "    b::T\n",
    "    c::T\n",
    "end\n",
    "\n",
    "struct Example3{T<:Real} <: Patate\n",
    "    a::T\n",
    "    b::Temperature{T}\n",
    "    c::T\n",
    "end\n",
    "\n",
    "\n",
    "function Example(a::Real, b::Real, c::Temperature{<:Real}) \n",
    "    return Example(promote(a, b, c)...)\n",
    "end \n",
    "\n",
    "Example2(a::Real, b::Real, c::Real) = Example2(promote(a, b, c)...)\n",
    "\n",
    "ex  = Example(2.3, 4//2,  4u\"K\")\n",
    "ex2 = Example2(2.3, 4, 4//2)\n",
    "ex3 = Example3(2.3, 4.0u\"K\", 2.0)\n",
    "\n",
    "\n",
    "function mult(p::Patate)\n",
    "    return p.a * p.c\n",
    "end\n",
    "\n",
    "@derived_dimension Mode dimension(1/u\"km\")\n",
    "power_law(amplitude::Real, index::Real, k::Mode{<:Real}) = amplitude * (k / 0.05 * Mpc)^(index-1) ## To be checked\n",
    "\n",
    "println(typeof(power_law))"
   ]
  },
  {
   "cell_type": "code",
   "execution_count": 4,
   "metadata": {},
   "outputs": [
    {
     "name": "stderr",
     "output_type": "stream",
     "text": [
      "WARNING: replacing module MyCosmology.\n",
      "WARNING: replacing module PowerSpectrum.\n",
      "WARNING: ignoring conflicting import of MyCosmology.PLANCK18 into Main\n"
     ]
    },
    {
     "data": {
      "text/plain": [
       "BenchmarkTools.Trial: 10000 samples with 1000 evaluations.\n",
       " Range \u001b[90m(\u001b[39m\u001b[36m\u001b[1mmin\u001b[22m\u001b[39m … \u001b[35mmax\u001b[39m\u001b[90m):  \u001b[39m\u001b[36m\u001b[1m1.167 ns\u001b[22m\u001b[39m … \u001b[35m26.583 ns\u001b[39m  \u001b[90m┊\u001b[39m GC \u001b[90m(\u001b[39mmin … max\u001b[90m): \u001b[39m0.00% … 0.00%\n",
       " Time  \u001b[90m(\u001b[39m\u001b[34m\u001b[1mmedian\u001b[22m\u001b[39m\u001b[90m):     \u001b[39m\u001b[34m\u001b[1m1.250 ns              \u001b[22m\u001b[39m\u001b[90m┊\u001b[39m GC \u001b[90m(\u001b[39mmedian\u001b[90m):    \u001b[39m0.00%\n",
       " Time  \u001b[90m(\u001b[39m\u001b[32m\u001b[1mmean\u001b[22m\u001b[39m ± \u001b[32mσ\u001b[39m\u001b[90m):   \u001b[39m\u001b[32m\u001b[1m1.274 ns\u001b[22m\u001b[39m ± \u001b[32m 0.319 ns\u001b[39m  \u001b[90m┊\u001b[39m GC \u001b[90m(\u001b[39mmean ± σ\u001b[90m):  \u001b[39m0.00% ± 0.00%\n",
       "\n",
       "  \u001b[39m \u001b[39m \u001b[39m \u001b[39m \u001b[39m \u001b[39m \u001b[39m \u001b[39m \u001b[39m \u001b[39m \u001b[39m \u001b[39m▁\u001b[39m \u001b[39m \u001b[39m \u001b[39m \u001b[39m \u001b[39m \u001b[39m \u001b[39m \u001b[39m \u001b[39m \u001b[39m \u001b[34m█\u001b[39m\u001b[39m \u001b[39m \u001b[39m \u001b[39m \u001b[39m \u001b[39m \u001b[32m \u001b[39m\u001b[39m \u001b[39m \u001b[39m \u001b[39m▇\u001b[39m \u001b[39m \u001b[39m \u001b[39m \u001b[39m \u001b[39m \u001b[39m \u001b[39m \u001b[39m \u001b[39m \u001b[39m \u001b[39m▃\u001b[39m \u001b[39m \u001b[39m \u001b[39m \u001b[39m \u001b[39m \u001b[39m \u001b[39m \u001b[39m \u001b[39m \u001b[39m▂\u001b[39m \u001b[39m▁\n",
       "  \u001b[39m▃\u001b[39m▁\u001b[39m▁\u001b[39m▁\u001b[39m▁\u001b[39m▁\u001b[39m▁\u001b[39m▁\u001b[39m▁\u001b[39m▁\u001b[39m▁\u001b[39m█\u001b[39m▁\u001b[39m▁\u001b[39m▁\u001b[39m▁\u001b[39m▁\u001b[39m▁\u001b[39m▁\u001b[39m▁\u001b[39m▁\u001b[39m▁\u001b[39m▁\u001b[34m█\u001b[39m\u001b[39m▁\u001b[39m▁\u001b[39m▁\u001b[39m▁\u001b[39m▁\u001b[39m▁\u001b[32m▁\u001b[39m\u001b[39m▁\u001b[39m▁\u001b[39m▁\u001b[39m█\u001b[39m▁\u001b[39m▁\u001b[39m▁\u001b[39m▁\u001b[39m▁\u001b[39m▁\u001b[39m▁\u001b[39m▁\u001b[39m▁\u001b[39m▁\u001b[39m▁\u001b[39m█\u001b[39m▁\u001b[39m▁\u001b[39m▁\u001b[39m▁\u001b[39m▁\u001b[39m▁\u001b[39m▁\u001b[39m▁\u001b[39m▁\u001b[39m▁\u001b[39m█\u001b[39m \u001b[39m█\n",
       "  1.17 ns\u001b[90m      \u001b[39m\u001b[90mHistogram: \u001b[39m\u001b[90m\u001b[1mlog(\u001b[22m\u001b[39m\u001b[90mfrequency\u001b[39m\u001b[90m\u001b[1m)\u001b[22m\u001b[39m\u001b[90m by time\u001b[39m     1.38 ns \u001b[0m\u001b[1m<\u001b[22m\n",
       "\n",
       " Memory estimate\u001b[90m: \u001b[39m\u001b[33m0 bytes\u001b[39m, allocs estimate\u001b[90m: \u001b[39m\u001b[33m0\u001b[39m."
      ]
     },
     "metadata": {},
     "output_type": "display_data"
    }
   ],
   "source": [
    "using BenchmarkTools\n",
    "\n",
    "using Unitful\n",
    "import Unitful: km, s, Gyr\n",
    "using UnitfulAstro: Mpc, Gpc, Msun, kpc\n",
    "\n",
    "include(\"../src/MyCosmology.jl\")\n",
    "include(\"../src/PowerSpectrum.jl\")\n",
    "#include(\"../src/TransferFunction.jl\")\n",
    "\n",
    "import .MyCosmology: PLANCK18\n",
    "\n",
    "#@benchmark MyCosmology.age()\n",
    "@benchmark PowerSpectrum.mass_vs_radius(300e-3, volume_factor=4/3*π)\n",
    "#println(MyCosmology.PLANCK18.ρ_c0_Msun_Mpc3)\n"
   ]
  },
  {
   "cell_type": "code",
   "execution_count": null,
   "metadata": {},
   "outputs": [],
   "source": []
  },
  {
   "cell_type": "code",
   "execution_count": 13,
   "metadata": {},
   "outputs": [
    {
     "name": "stdout",
     "output_type": "stream",
     "text": [
      "0.31377 9.21221186221331e-5 0.6861378778813779\n"
     ]
    },
    {
     "data": {
      "image/png": "[encoded data removed]",
      "image/svg+xml": [
       "<?xml version=\"1.0\" encoding=\"utf-8\"?>\n",
       "<svg xmlns=\"http://www.w3.org/2000/svg\" xmlns:xlink=\"http://www.w3.org/1999/xlink\" width=\"600\" height=\"400\" viewBox=\"0 0 2400 1600\">\n",
       "<defs>\n",
       "  <clipPath id=\"clip700\">\n",
       "    <rect x=\"0\" y=\"0\" width=\"2400\" height=\"1600\"/>\n",
       "  </clipPath>\n",
       "</defs>\n",
       "<path clip-path=\"url(#clip700)\" d=\"M0 1600 L2400 1600 L2400 0 L0 0  Z\" fill=\"#ffffff\" fill-rule=\"evenodd\" fill-opacity=\"1\"/>\n",
       "<defs>\n",
       "  <clipPath id=\"clip701\">\n",
       "    <rect x=\"480\" y=\"0\" width=\"1681\" height=\"1600\"/>\n",
       "  </clipPath>\n",
       "</defs>\n",
       "<path clip-path=\"url(#clip700)\" d=\"M181.183 1474.16 L2352.76 1474.16 L2352.76 47.2441 L181.183 47.2441  Z\" fill=\"#ffffff\" fill-rule=\"evenodd\" fill-opacity=\"1\"/>\n",
       "<defs>\n",
       "  <clipPath id=\"clip702\">\n",
       "    <rect x=\"181\" y=\"47\" width=\"2173\" height=\"1428\"/>\n",
       "  </clipPath>\n",
       "</defs>\n",
       "<polyline clip-path=\"url(#clip702)\" style=\"stroke:#000000; stroke-linecap:round; stroke-linejoin:round; stroke-width:2; stroke-opacity:0.1; fill:none\" points=\"652.373,1474.16 652.373,47.2441 \"/>\n",
       "<polyline clip-path=\"url(#clip702)\" style=\"stroke:#000000; stroke-linecap:round; stroke-linejoin:round; stroke-width:2; stroke-opacity:0.1; fill:none\" points=\"1676.7,1474.16 1676.7,47.2441 \"/>\n",
       "<polyline clip-path=\"url(#clip700)\" style=\"stroke:#000000; stroke-linecap:round; stroke-linejoin:round; stroke-width:4; stroke-opacity:1; fill:none\" points=\"181.183,1474.16 2352.76,1474.16 \"/>\n",
       "<polyline clip-path=\"url(#clip700)\" style=\"stroke:#000000; stroke-linecap:round; stroke-linejoin:round; stroke-width:4; stroke-opacity:1; fill:none\" points=\"652.373,1474.16 652.373,1455.27 \"/>\n",
       "<polyline clip-path=\"url(#clip700)\" style=\"stroke:#000000; stroke-linecap:round; stroke-linejoin:round; stroke-width:4; stroke-opacity:1; fill:none\" points=\"1676.7,1474.16 1676.7,1455.27 \"/>\n",
       "<path clip-path=\"url(#clip700)\" d=\"M617.356 1548.29 L624.995 1548.29 L624.995 1521.92 L616.685 1523.59 L616.685 1519.33 L624.949 1517.66 L629.625 1517.66 L629.625 1548.29 L637.263 1548.29 L637.263 1552.22 L617.356 1552.22 L617.356 1548.29 Z\" fill=\"#000000\" fill-rule=\"nonzero\" fill-opacity=\"1\" /><path clip-path=\"url(#clip700)\" d=\"M656.708 1520.74 Q653.097 1520.74 651.268 1524.31 Q649.462 1527.85 649.462 1534.98 Q649.462 1542.09 651.268 1545.65 Q653.097 1549.19 656.708 1549.19 Q660.342 1549.19 662.148 1545.65 Q663.976 1542.09 663.976 1534.98 Q663.976 1527.85 662.148 1524.31 Q660.342 1520.74 656.708 1520.74 M656.708 1517.04 Q662.518 1517.04 665.573 1521.65 Q668.652 1526.23 668.652 1534.98 Q668.652 1543.71 665.573 1548.31 Q662.518 1552.9 656.708 1552.9 Q650.898 1552.9 647.819 1548.31 Q644.763 1543.71 644.763 1534.98 Q644.763 1526.23 647.819 1521.65 Q650.898 1517.04 656.708 1517.04 Z\" fill=\"#000000\" fill-rule=\"nonzero\" fill-opacity=\"1\" /><path clip-path=\"url(#clip700)\" d=\"M678.357 1499.24 Q675.423 1499.24 673.937 1502.13 Q672.47 1505.01 672.47 1510.8 Q672.47 1516.58 673.937 1519.47 Q675.423 1522.35 678.357 1522.35 Q681.31 1522.35 682.777 1519.47 Q684.263 1516.58 684.263 1510.8 Q684.263 1505.01 682.777 1502.13 Q681.31 1499.24 678.357 1499.24 M678.357 1496.23 Q683.078 1496.23 685.56 1499.97 Q688.062 1503.69 688.062 1510.8 Q688.062 1517.89 685.56 1521.64 Q683.078 1525.36 678.357 1525.36 Q673.636 1525.36 671.135 1521.64 Q668.652 1517.89 668.652 1510.8 Q668.652 1503.69 671.135 1499.97 Q673.636 1496.23 678.357 1496.23 Z\" fill=\"#000000\" fill-rule=\"nonzero\" fill-opacity=\"1\" /><path clip-path=\"url(#clip700)\" d=\"M1642.3 1548.29 L1649.94 1548.29 L1649.94 1521.92 L1641.63 1523.59 L1641.63 1519.33 L1649.9 1517.66 L1654.57 1517.66 L1654.57 1548.29 L1662.21 1548.29 L1662.21 1552.22 L1642.3 1552.22 L1642.3 1548.29 Z\" fill=\"#000000\" fill-rule=\"nonzero\" fill-opacity=\"1\" /><path clip-path=\"url(#clip700)\" d=\"M1681.66 1520.74 Q1678.04 1520.74 1676.22 1524.31 Q1674.41 1527.85 1674.41 1534.98 Q1674.41 1542.09 1676.22 1545.65 Q1678.04 1549.19 1681.66 1549.19 Q1685.29 1549.19 1687.1 1545.65 Q1688.92 1542.09 1688.92 1534.98 Q1688.92 1527.85 1687.1 1524.31 Q1685.29 1520.74 1681.66 1520.74 M1681.66 1517.04 Q1687.47 1517.04 1690.52 1521.65 Q1693.6 1526.23 1693.6 1534.98 Q1693.6 1543.71 1690.52 1548.31 Q1687.47 1552.9 1681.66 1552.9 Q1675.85 1552.9 1672.77 1548.31 Q1669.71 1543.71 1669.71 1534.98 Q1669.71 1526.23 1672.77 1521.65 Q1675.85 1517.04 1681.66 1517.04 Z\" fill=\"#000000\" fill-rule=\"nonzero\" fill-opacity=\"1\" /><path clip-path=\"url(#clip700)\" d=\"M1694.78 1496.73 L1709.7 1496.73 L1709.7 1499.93 L1698.26 1499.93 L1698.26 1506.82 Q1699.09 1506.53 1699.92 1506.4 Q1700.75 1506.25 1701.57 1506.25 Q1706.28 1506.25 1709.02 1508.83 Q1711.77 1511.4 1711.77 1515.81 Q1711.77 1520.34 1708.95 1522.86 Q1706.13 1525.36 1700.99 1525.36 Q1699.22 1525.36 1697.38 1525.06 Q1695.56 1524.76 1693.6 1524.16 L1693.6 1520.34 Q1695.29 1521.26 1697.1 1521.71 Q1698.9 1522.16 1700.92 1522.16 Q1704.17 1522.16 1706.07 1520.45 Q1707.97 1518.74 1707.97 1515.81 Q1707.97 1512.87 1706.07 1511.16 Q1704.17 1509.45 1700.92 1509.45 Q1699.39 1509.45 1697.87 1509.79 Q1696.36 1510.13 1694.78 1510.84 L1694.78 1496.73 Z\" fill=\"#000000\" fill-rule=\"nonzero\" fill-opacity=\"1\" /><polyline clip-path=\"url(#clip702)\" style=\"stroke:#000000; stroke-linecap:round; stroke-linejoin:round; stroke-width:2; stroke-opacity:0.1; fill:none\" points=\"181.183,1433.98 2352.76,1433.98 \"/>\n",
       "<polyline clip-path=\"url(#clip702)\" style=\"stroke:#000000; stroke-linecap:round; stroke-linejoin:round; stroke-width:2; stroke-opacity:0.1; fill:none\" points=\"181.183,952.526 2352.76,952.526 \"/>\n",
       "<polyline clip-path=\"url(#clip702)\" style=\"stroke:#000000; stroke-linecap:round; stroke-linejoin:round; stroke-width:2; stroke-opacity:0.1; fill:none\" points=\"181.183,471.075 2352.76,471.075 \"/>\n",
       "<polyline clip-path=\"url(#clip700)\" style=\"stroke:#000000; stroke-linecap:round; stroke-linejoin:round; stroke-width:4; stroke-opacity:1; fill:none\" points=\"181.183,1474.16 181.183,47.2441 \"/>\n",
       "<polyline clip-path=\"url(#clip700)\" style=\"stroke:#000000; stroke-linecap:round; stroke-linejoin:round; stroke-width:4; stroke-opacity:1; fill:none\" points=\"181.183,1433.98 200.081,1433.98 \"/>\n",
       "<polyline clip-path=\"url(#clip700)\" style=\"stroke:#000000; stroke-linecap:round; stroke-linejoin:round; stroke-width:4; stroke-opacity:1; fill:none\" points=\"181.183,952.526 200.081,952.526 \"/>\n",
       "<polyline clip-path=\"url(#clip700)\" style=\"stroke:#000000; stroke-linecap:round; stroke-linejoin:round; stroke-width:4; stroke-opacity:1; fill:none\" points=\"181.183,471.075 200.081,471.075 \"/>\n",
       "<path clip-path=\"url(#clip700)\" d=\"M74.4772 1453.77 L82.1161 1453.77 L82.1161 1427.4 L73.806 1429.07 L73.806 1424.81 L82.0698 1423.15 L86.7457 1423.15 L86.7457 1453.77 L94.3845 1453.77 L94.3845 1457.71 L74.4772 1457.71 L74.4772 1453.77 Z\" fill=\"#000000\" fill-rule=\"nonzero\" fill-opacity=\"1\" /><path clip-path=\"url(#clip700)\" d=\"M113.829 1426.22 Q110.218 1426.22 108.389 1429.79 Q106.584 1433.33 106.584 1440.46 Q106.584 1447.57 108.389 1451.13 Q110.218 1454.67 113.829 1454.67 Q117.463 1454.67 119.269 1451.13 Q121.097 1447.57 121.097 1440.46 Q121.097 1433.33 119.269 1429.79 Q117.463 1426.22 113.829 1426.22 M113.829 1422.52 Q119.639 1422.52 122.695 1427.13 Q125.773 1431.71 125.773 1440.46 Q125.773 1449.19 122.695 1453.79 Q119.639 1458.38 113.829 1458.38 Q108.019 1458.38 104.94 1453.79 Q101.885 1449.19 101.885 1440.46 Q101.885 1431.71 104.94 1427.13 Q108.019 1422.52 113.829 1422.52 Z\" fill=\"#000000\" fill-rule=\"nonzero\" fill-opacity=\"1\" /><path clip-path=\"url(#clip700)\" d=\"M135.478 1404.72 Q132.544 1404.72 131.058 1407.61 Q129.591 1410.49 129.591 1416.28 Q129.591 1422.06 131.058 1424.95 Q132.544 1427.83 135.478 1427.83 Q138.431 1427.83 139.898 1424.95 Q141.384 1422.06 141.384 1416.28 Q141.384 1410.49 139.898 1407.61 Q138.431 1404.72 135.478 1404.72 M135.478 1401.71 Q140.199 1401.71 142.681 1405.45 Q145.183 1409.17 145.183 1416.28 Q145.183 1423.37 142.681 1427.12 Q140.199 1430.84 135.478 1430.84 Q130.757 1430.84 128.256 1427.12 Q125.773 1423.37 125.773 1416.28 Q125.773 1409.17 128.256 1405.45 Q130.757 1401.71 135.478 1401.71 Z\" fill=\"#000000\" fill-rule=\"nonzero\" fill-opacity=\"1\" /><path clip-path=\"url(#clip700)\" d=\"M75.7186 972.319 L83.3574 972.319 L83.3574 945.953 L75.0473 947.62 L75.0473 943.361 L83.3111 941.694 L87.987 941.694 L87.987 972.319 L95.6259 972.319 L95.6259 976.254 L75.7186 976.254 L75.7186 972.319 Z\" fill=\"#000000\" fill-rule=\"nonzero\" fill-opacity=\"1\" /><path clip-path=\"url(#clip700)\" d=\"M115.07 944.773 Q111.459 944.773 109.63 948.338 Q107.825 951.879 107.825 959.009 Q107.825 966.115 109.63 969.68 Q111.459 973.222 115.07 973.222 Q118.704 973.222 120.51 969.68 Q122.339 966.115 122.339 959.009 Q122.339 951.879 120.51 948.338 Q118.704 944.773 115.07 944.773 M115.07 941.069 Q120.88 941.069 123.936 945.676 Q127.015 950.259 127.015 959.009 Q127.015 967.736 123.936 972.342 Q120.88 976.925 115.07 976.925 Q109.26 976.925 106.181 972.342 Q103.126 967.736 103.126 959.009 Q103.126 950.259 106.181 945.676 Q109.26 941.069 115.07 941.069 Z\" fill=\"#000000\" fill-rule=\"nonzero\" fill-opacity=\"1\" /><path clip-path=\"url(#clip700)\" d=\"M128.199 920.764 L143.114 920.764 L143.114 923.961 L131.679 923.961 L131.679 930.845 Q132.506 930.563 133.334 930.431 Q134.162 930.28 134.989 930.28 Q139.691 930.28 142.437 932.857 Q145.183 935.434 145.183 939.835 Q145.183 944.367 142.362 946.888 Q139.541 949.389 134.406 949.389 Q132.638 949.389 130.795 949.088 Q128.971 948.787 127.015 948.185 L127.015 944.367 Q128.707 945.289 130.513 945.74 Q132.318 946.192 134.331 946.192 Q137.585 946.192 139.484 944.48 Q141.384 942.769 141.384 939.835 Q141.384 936.901 139.484 935.189 Q137.585 933.478 134.331 933.478 Q132.807 933.478 131.284 933.816 Q129.779 934.155 128.199 934.87 L128.199 920.764 Z\" fill=\"#000000\" fill-rule=\"nonzero\" fill-opacity=\"1\" /><path clip-path=\"url(#clip700)\" d=\"M51.6634 490.867 L59.3023 490.867 L59.3023 464.502 L50.9921 466.168 L50.9921 461.909 L59.256 460.243 L63.9319 460.243 L63.9319 490.867 L71.5707 490.867 L71.5707 494.803 L51.6634 494.803 L51.6634 490.867 Z\" fill=\"#000000\" fill-rule=\"nonzero\" fill-opacity=\"1\" /><path clip-path=\"url(#clip700)\" d=\"M91.0151 463.321 Q87.404 463.321 85.5753 466.886 Q83.7697 470.428 83.7697 477.557 Q83.7697 484.664 85.5753 488.228 Q87.404 491.77 91.0151 491.77 Q94.6493 491.77 96.4548 488.228 Q98.2835 484.664 98.2835 477.557 Q98.2835 470.428 96.4548 466.886 Q94.6493 463.321 91.0151 463.321 M91.0151 459.618 Q96.8252 459.618 99.8808 464.224 Q102.959 468.807 102.959 477.557 Q102.959 486.284 99.8808 490.89 Q96.8252 495.474 91.0151 495.474 Q85.2049 495.474 82.1262 490.89 Q79.0707 486.284 79.0707 477.557 Q79.0707 468.807 82.1262 464.224 Q85.2049 459.618 91.0151 459.618 Z\" fill=\"#000000\" fill-rule=\"nonzero\" fill-opacity=\"1\" /><path clip-path=\"url(#clip700)\" d=\"M103.505 464.195 L109.711 464.195 L109.711 442.773 L102.959 444.127 L102.959 440.666 L109.674 439.312 L113.473 439.312 L113.473 464.195 L119.68 464.195 L119.68 467.392 L103.505 467.392 L103.505 464.195 Z\" fill=\"#000000\" fill-rule=\"nonzero\" fill-opacity=\"1\" /><path clip-path=\"url(#clip700)\" d=\"M135.478 441.814 Q132.544 441.814 131.058 444.71 Q129.591 447.588 129.591 453.38 Q129.591 459.154 131.058 462.051 Q132.544 464.928 135.478 464.928 Q138.431 464.928 139.898 462.051 Q141.384 459.154 141.384 453.38 Q141.384 447.588 139.898 444.71 Q138.431 441.814 135.478 441.814 M135.478 438.804 Q140.199 438.804 142.681 442.547 Q145.183 446.271 145.183 453.38 Q145.183 460.471 142.681 464.214 Q140.199 467.938 135.478 467.938 Q130.757 467.938 128.256 464.214 Q125.773 460.471 125.773 453.38 Q125.773 446.271 128.256 442.547 Q130.757 438.804 135.478 438.804 Z\" fill=\"#000000\" fill-rule=\"nonzero\" fill-opacity=\"1\" /><polyline clip-path=\"url(#clip702)\" style=\"stroke:#009af9; stroke-linecap:round; stroke-linejoin:round; stroke-width:4; stroke-opacity:1; fill:none\" points=\"242.642,1433.78 263.336,1433.73 284.029,1433.66 304.723,1433.58 325.416,1433.47 346.11,1433.34 366.803,1433.17 387.497,1432.95 408.19,1432.67 428.884,1432.32 449.577,1431.86 470.271,1431.27 490.964,1430.52 511.658,1429.54 532.351,1428.28 553.045,1426.64 573.738,1424.52 594.432,1421.79 615.125,1418.3 635.818,1413.91 656.512,1408.5 677.205,1401.99 697.899,1394.36 718.592,1385.65 739.286,1375.96 759.979,1365.4 780.673,1354.1 801.366,1342.18 822.06,1329.75 842.753,1316.9 863.447,1303.71 884.14,1290.24 904.834,1276.53 925.527,1262.65 946.221,1248.6 966.914,1234.44 987.608,1220.16 1008.3,1205.8 1028.99,1191.36 1049.69,1176.85 1070.38,1162.27 1091.07,1147.63 1111.77,1132.92 1132.46,1118.14 1153.16,1103.28 1173.85,1088.32 1194.54,1073.27 1215.24,1058.09 1235.93,1042.76 1256.62,1027.27 1277.32,1011.59 1298.01,995.699 1318.7,979.569 1339.4,963.182 1360.09,946.523 1380.78,929.583 1401.48,912.36 1422.17,894.86 1442.86,877.095 1463.56,859.084 1484.25,840.848 1504.94,822.413 1525.64,803.803 1546.33,785.043 1567.02,766.157 1587.72,747.164 1608.41,728.082 1629.11,708.929 1649.8,689.716 1670.49,670.456 1691.19,651.157 1711.88,631.827 1732.57,612.472 1753.27,593.097 1773.96,573.706 1794.65,554.303 1815.35,534.889 1836.04,515.468 1856.73,496.04 1877.43,476.607 1898.12,457.169 1918.81,437.729 1939.51,418.286 1960.2,398.841 1980.89,379.395 2001.59,359.947 2022.28,340.498 2042.97,321.049 2063.67,301.599 2084.36,282.148 2105.06,262.697 2125.75,243.245 2146.44,223.794 2167.14,204.342 2187.83,184.89 2208.52,165.438 2229.22,145.986 2249.91,126.533 2270.6,107.081 2291.3,87.6286 \"/>\n",
       "<path clip-path=\"url(#clip700)\" d=\"M2010.78 198.488 L2280.37 198.488 L2280.37 94.8081 L2010.78 94.8081  Z\" fill=\"#ffffff\" fill-rule=\"evenodd\" fill-opacity=\"1\"/>\n",
       "<polyline clip-path=\"url(#clip700)\" style=\"stroke:#000000; stroke-linecap:round; stroke-linejoin:round; stroke-width:4; stroke-opacity:1; fill:none\" points=\"2010.78,198.488 2280.37,198.488 2280.37,94.8081 2010.78,94.8081 2010.78,198.488 \"/>\n",
       "<polyline clip-path=\"url(#clip700)\" style=\"stroke:#009af9; stroke-linecap:round; stroke-linejoin:round; stroke-width:4; stroke-opacity:1; fill:none\" points=\"2034.91,146.648 2179.68,146.648 \"/>\n",
       "<path clip-path=\"url(#clip700)\" d=\"M2217.65 166.336 Q2215.85 170.965 2214.14 172.377 Q2212.42 173.789 2209.55 173.789 L2206.15 173.789 L2206.15 170.224 L2208.65 170.224 Q2210.41 170.224 2211.38 169.391 Q2212.35 168.558 2213.53 165.456 L2214.3 163.511 L2203.81 138.002 L2208.33 138.002 L2216.43 158.28 L2224.53 138.002 L2229.04 138.002 L2217.65 166.336 Z\" fill=\"#000000\" fill-rule=\"nonzero\" fill-opacity=\"1\" /><path clip-path=\"url(#clip700)\" d=\"M2236.33 159.993 L2243.97 159.993 L2243.97 133.627 L2235.66 135.294 L2235.66 131.035 L2243.93 129.368 L2248.6 129.368 L2248.6 159.993 L2256.24 159.993 L2256.24 163.928 L2236.33 163.928 L2236.33 159.993 Z\" fill=\"#000000\" fill-rule=\"nonzero\" fill-opacity=\"1\" /></svg>\n"
      ],
      "text/html": [
       "<?xml version=\"1.0\" encoding=\"utf-8\"?>\n",
       "<svg xmlns=\"http://www.w3.org/2000/svg\" xmlns:xlink=\"http://www.w3.org/1999/xlink\" width=\"600\" height=\"400\" viewBox=\"0 0 2400 1600\">\n",
       "<defs>\n",
       "  <clipPath id=\"clip750\">\n",
       "    <rect x=\"0\" y=\"0\" width=\"2400\" height=\"1600\"/>\n",
       "  </clipPath>\n",
       "</defs>\n",
       "<path clip-path=\"url(#clip750)\" d=\"M0 1600 L2400 1600 L2400 0 L0 0  Z\" fill=\"#ffffff\" fill-rule=\"evenodd\" fill-opacity=\"1\"/>\n",
       "<defs>\n",
       "  <clipPath id=\"clip751\">\n",
       "    <rect x=\"480\" y=\"0\" width=\"1681\" height=\"1600\"/>\n",
       "  </clipPath>\n",
       "</defs>\n",
       "<path clip-path=\"url(#clip750)\" d=\"M181.183 1474.16 L2352.76 1474.16 L2352.76 47.2441 L181.183 47.2441  Z\" fill=\"#ffffff\" fill-rule=\"evenodd\" fill-opacity=\"1\"/>\n",
       "<defs>\n",
       "  <clipPath id=\"clip752\">\n",
       "    <rect x=\"181\" y=\"47\" width=\"2173\" height=\"1428\"/>\n",
       "  </clipPath>\n",
       "</defs>\n",
       "<polyline clip-path=\"url(#clip752)\" style=\"stroke:#000000; stroke-linecap:round; stroke-linejoin:round; stroke-width:2; stroke-opacity:0.1; fill:none\" points=\"652.373,1474.16 652.373,47.2441 \"/>\n",
       "<polyline clip-path=\"url(#clip752)\" style=\"stroke:#000000; stroke-linecap:round; stroke-linejoin:round; stroke-width:2; stroke-opacity:0.1; fill:none\" points=\"1676.7,1474.16 1676.7,47.2441 \"/>\n",
       "<polyline clip-path=\"url(#clip750)\" style=\"stroke:#000000; stroke-linecap:round; stroke-linejoin:round; stroke-width:4; stroke-opacity:1; fill:none\" points=\"181.183,1474.16 2352.76,1474.16 \"/>\n",
       "<polyline clip-path=\"url(#clip750)\" style=\"stroke:#000000; stroke-linecap:round; stroke-linejoin:round; stroke-width:4; stroke-opacity:1; fill:none\" points=\"652.373,1474.16 652.373,1455.27 \"/>\n",
       "<polyline clip-path=\"url(#clip750)\" style=\"stroke:#000000; stroke-linecap:round; stroke-linejoin:round; stroke-width:4; stroke-opacity:1; fill:none\" points=\"1676.7,1474.16 1676.7,1455.27 \"/>\n",
       "<path clip-path=\"url(#clip750)\" d=\"M617.356 1548.29 L624.995 1548.29 L624.995 1521.92 L616.685 1523.59 L616.685 1519.33 L624.949 1517.66 L629.625 1517.66 L629.625 1548.29 L637.263 1548.29 L637.263 1552.22 L617.356 1552.22 L617.356 1548.29 Z\" fill=\"#000000\" fill-rule=\"nonzero\" fill-opacity=\"1\" /><path clip-path=\"url(#clip750)\" d=\"M656.708 1520.74 Q653.097 1520.74 651.268 1524.31 Q649.462 1527.85 649.462 1534.98 Q649.462 1542.09 651.268 1545.65 Q653.097 1549.19 656.708 1549.19 Q660.342 1549.19 662.148 1545.65 Q663.976 1542.09 663.976 1534.98 Q663.976 1527.85 662.148 1524.31 Q660.342 1520.74 656.708 1520.74 M656.708 1517.04 Q662.518 1517.04 665.573 1521.65 Q668.652 1526.23 668.652 1534.98 Q668.652 1543.71 665.573 1548.31 Q662.518 1552.9 656.708 1552.9 Q650.898 1552.9 647.819 1548.31 Q644.763 1543.71 644.763 1534.98 Q644.763 1526.23 647.819 1521.65 Q650.898 1517.04 656.708 1517.04 Z\" fill=\"#000000\" fill-rule=\"nonzero\" fill-opacity=\"1\" /><path clip-path=\"url(#clip750)\" d=\"M678.357 1499.24 Q675.423 1499.24 673.937 1502.13 Q672.47 1505.01 672.47 1510.8 Q672.47 1516.58 673.937 1519.47 Q675.423 1522.35 678.357 1522.35 Q681.31 1522.35 682.777 1519.47 Q684.263 1516.58 684.263 1510.8 Q684.263 1505.01 682.777 1502.13 Q681.31 1499.24 678.357 1499.24 M678.357 1496.23 Q683.078 1496.23 685.56 1499.97 Q688.062 1503.69 688.062 1510.8 Q688.062 1517.89 685.56 1521.64 Q683.078 1525.36 678.357 1525.36 Q673.636 1525.36 671.135 1521.64 Q668.652 1517.89 668.652 1510.8 Q668.652 1503.69 671.135 1499.97 Q673.636 1496.23 678.357 1496.23 Z\" fill=\"#000000\" fill-rule=\"nonzero\" fill-opacity=\"1\" /><path clip-path=\"url(#clip750)\" d=\"M1642.3 1548.29 L1649.94 1548.29 L1649.94 1521.92 L1641.63 1523.59 L1641.63 1519.33 L1649.9 1517.66 L1654.57 1517.66 L1654.57 1548.29 L1662.21 1548.29 L1662.21 1552.22 L1642.3 1552.22 L1642.3 1548.29 Z\" fill=\"#000000\" fill-rule=\"nonzero\" fill-opacity=\"1\" /><path clip-path=\"url(#clip750)\" d=\"M1681.66 1520.74 Q1678.04 1520.74 1676.22 1524.31 Q1674.41 1527.85 1674.41 1534.98 Q1674.41 1542.09 1676.22 1545.65 Q1678.04 1549.19 1681.66 1549.19 Q1685.29 1549.19 1687.1 1545.65 Q1688.92 1542.09 1688.92 1534.98 Q1688.92 1527.85 1687.1 1524.31 Q1685.29 1520.74 1681.66 1520.74 M1681.66 1517.04 Q1687.47 1517.04 1690.52 1521.65 Q1693.6 1526.23 1693.6 1534.98 Q1693.6 1543.71 1690.52 1548.31 Q1687.47 1552.9 1681.66 1552.9 Q1675.85 1552.9 1672.77 1548.31 Q1669.71 1543.71 1669.71 1534.98 Q1669.71 1526.23 1672.77 1521.65 Q1675.85 1517.04 1681.66 1517.04 Z\" fill=\"#000000\" fill-rule=\"nonzero\" fill-opacity=\"1\" /><path clip-path=\"url(#clip750)\" d=\"M1694.78 1496.73 L1709.7 1496.73 L1709.7 1499.93 L1698.26 1499.93 L1698.26 1506.82 Q1699.09 1506.53 1699.92 1506.4 Q1700.75 1506.25 1701.57 1506.25 Q1706.28 1506.25 1709.02 1508.83 Q1711.77 1511.4 1711.77 1515.81 Q1711.77 1520.34 1708.95 1522.86 Q1706.13 1525.36 1700.99 1525.36 Q1699.22 1525.36 1697.38 1525.06 Q1695.56 1524.76 1693.6 1524.16 L1693.6 1520.34 Q1695.29 1521.26 1697.1 1521.71 Q1698.9 1522.16 1700.92 1522.16 Q1704.17 1522.16 1706.07 1520.45 Q1707.97 1518.74 1707.97 1515.81 Q1707.97 1512.87 1706.07 1511.16 Q1704.17 1509.45 1700.92 1509.45 Q1699.39 1509.45 1697.87 1509.79 Q1696.36 1510.13 1694.78 1510.84 L1694.78 1496.73 Z\" fill=\"#000000\" fill-rule=\"nonzero\" fill-opacity=\"1\" /><polyline clip-path=\"url(#clip752)\" style=\"stroke:#000000; stroke-linecap:round; stroke-linejoin:round; stroke-width:2; stroke-opacity:0.1; fill:none\" points=\"181.183,1433.98 2352.76,1433.98 \"/>\n",
       "<polyline clip-path=\"url(#clip752)\" style=\"stroke:#000000; stroke-linecap:round; stroke-linejoin:round; stroke-width:2; stroke-opacity:0.1; fill:none\" points=\"181.183,952.526 2352.76,952.526 \"/>\n",
       "<polyline clip-path=\"url(#clip752)\" style=\"stroke:#000000; stroke-linecap:round; stroke-linejoin:round; stroke-width:2; stroke-opacity:0.1; fill:none\" points=\"181.183,471.075 2352.76,471.075 \"/>\n",
       "<polyline clip-path=\"url(#clip750)\" style=\"stroke:#000000; stroke-linecap:round; stroke-linejoin:round; stroke-width:4; stroke-opacity:1; fill:none\" points=\"181.183,1474.16 181.183,47.2441 \"/>\n",
       "<polyline clip-path=\"url(#clip750)\" style=\"stroke:#000000; stroke-linecap:round; stroke-linejoin:round; stroke-width:4; stroke-opacity:1; fill:none\" points=\"181.183,1433.98 200.081,1433.98 \"/>\n",
       "<polyline clip-path=\"url(#clip750)\" style=\"stroke:#000000; stroke-linecap:round; stroke-linejoin:round; stroke-width:4; stroke-opacity:1; fill:none\" points=\"181.183,952.526 200.081,952.526 \"/>\n",
       "<polyline clip-path=\"url(#clip750)\" style=\"stroke:#000000; stroke-linecap:round; stroke-linejoin:round; stroke-width:4; stroke-opacity:1; fill:none\" points=\"181.183,471.075 200.081,471.075 \"/>\n",
       "<path clip-path=\"url(#clip750)\" d=\"M74.4772 1453.77 L82.1161 1453.77 L82.1161 1427.4 L73.806 1429.07 L73.806 1424.81 L82.0698 1423.15 L86.7457 1423.15 L86.7457 1453.77 L94.3845 1453.77 L94.3845 1457.71 L74.4772 1457.71 L74.4772 1453.77 Z\" fill=\"#000000\" fill-rule=\"nonzero\" fill-opacity=\"1\" /><path clip-path=\"url(#clip750)\" d=\"M113.829 1426.22 Q110.218 1426.22 108.389 1429.79 Q106.584 1433.33 106.584 1440.46 Q106.584 1447.57 108.389 1451.13 Q110.218 1454.67 113.829 1454.67 Q117.463 1454.67 119.269 1451.13 Q121.097 1447.57 121.097 1440.46 Q121.097 1433.33 119.269 1429.79 Q117.463 1426.22 113.829 1426.22 M113.829 1422.52 Q119.639 1422.52 122.695 1427.13 Q125.773 1431.71 125.773 1440.46 Q125.773 1449.19 122.695 1453.79 Q119.639 1458.38 113.829 1458.38 Q108.019 1458.38 104.94 1453.79 Q101.885 1449.19 101.885 1440.46 Q101.885 1431.71 104.94 1427.13 Q108.019 1422.52 113.829 1422.52 Z\" fill=\"#000000\" fill-rule=\"nonzero\" fill-opacity=\"1\" /><path clip-path=\"url(#clip750)\" d=\"M135.478 1404.72 Q132.544 1404.72 131.058 1407.61 Q129.591 1410.49 129.591 1416.28 Q129.591 1422.06 131.058 1424.95 Q132.544 1427.83 135.478 1427.83 Q138.431 1427.83 139.898 1424.95 Q141.384 1422.06 141.384 1416.28 Q141.384 1410.49 139.898 1407.61 Q138.431 1404.72 135.478 1404.72 M135.478 1401.71 Q140.199 1401.71 142.681 1405.45 Q145.183 1409.17 145.183 1416.28 Q145.183 1423.37 142.681 1427.12 Q140.199 1430.84 135.478 1430.84 Q130.757 1430.84 128.256 1427.12 Q125.773 1423.37 125.773 1416.28 Q125.773 1409.17 128.256 1405.45 Q130.757 1401.71 135.478 1401.71 Z\" fill=\"#000000\" fill-rule=\"nonzero\" fill-opacity=\"1\" /><path clip-path=\"url(#clip750)\" d=\"M75.7186 972.319 L83.3574 972.319 L83.3574 945.953 L75.0473 947.62 L75.0473 943.361 L83.3111 941.694 L87.987 941.694 L87.987 972.319 L95.6259 972.319 L95.6259 976.254 L75.7186 976.254 L75.7186 972.319 Z\" fill=\"#000000\" fill-rule=\"nonzero\" fill-opacity=\"1\" /><path clip-path=\"url(#clip750)\" d=\"M115.07 944.773 Q111.459 944.773 109.63 948.338 Q107.825 951.879 107.825 959.009 Q107.825 966.115 109.63 969.68 Q111.459 973.222 115.07 973.222 Q118.704 973.222 120.51 969.68 Q122.339 966.115 122.339 959.009 Q122.339 951.879 120.51 948.338 Q118.704 944.773 115.07 944.773 M115.07 941.069 Q120.88 941.069 123.936 945.676 Q127.015 950.259 127.015 959.009 Q127.015 967.736 123.936 972.342 Q120.88 976.925 115.07 976.925 Q109.26 976.925 106.181 972.342 Q103.126 967.736 103.126 959.009 Q103.126 950.259 106.181 945.676 Q109.26 941.069 115.07 941.069 Z\" fill=\"#000000\" fill-rule=\"nonzero\" fill-opacity=\"1\" /><path clip-path=\"url(#clip750)\" d=\"M128.199 920.764 L143.114 920.764 L143.114 923.961 L131.679 923.961 L131.679 930.845 Q132.506 930.563 133.334 930.431 Q134.162 930.28 134.989 930.28 Q139.691 930.28 142.437 932.857 Q145.183 935.434 145.183 939.835 Q145.183 944.367 142.362 946.888 Q139.541 949.389 134.406 949.389 Q132.638 949.389 130.795 949.088 Q128.971 948.787 127.015 948.185 L127.015 944.367 Q128.707 945.289 130.513 945.74 Q132.318 946.192 134.331 946.192 Q137.585 946.192 139.484 944.48 Q141.384 942.769 141.384 939.835 Q141.384 936.901 139.484 935.189 Q137.585 933.478 134.331 933.478 Q132.807 933.478 131.284 933.816 Q129.779 934.155 128.199 934.87 L128.199 920.764 Z\" fill=\"#000000\" fill-rule=\"nonzero\" fill-opacity=\"1\" /><path clip-path=\"url(#clip750)\" d=\"M51.6634 490.867 L59.3023 490.867 L59.3023 464.502 L50.9921 466.168 L50.9921 461.909 L59.256 460.243 L63.9319 460.243 L63.9319 490.867 L71.5707 490.867 L71.5707 494.803 L51.6634 494.803 L51.6634 490.867 Z\" fill=\"#000000\" fill-rule=\"nonzero\" fill-opacity=\"1\" /><path clip-path=\"url(#clip750)\" d=\"M91.0151 463.321 Q87.404 463.321 85.5753 466.886 Q83.7697 470.428 83.7697 477.557 Q83.7697 484.664 85.5753 488.228 Q87.404 491.77 91.0151 491.77 Q94.6493 491.77 96.4548 488.228 Q98.2835 484.664 98.2835 477.557 Q98.2835 470.428 96.4548 466.886 Q94.6493 463.321 91.0151 463.321 M91.0151 459.618 Q96.8252 459.618 99.8808 464.224 Q102.959 468.807 102.959 477.557 Q102.959 486.284 99.8808 490.89 Q96.8252 495.474 91.0151 495.474 Q85.2049 495.474 82.1262 490.89 Q79.0707 486.284 79.0707 477.557 Q79.0707 468.807 82.1262 464.224 Q85.2049 459.618 91.0151 459.618 Z\" fill=\"#000000\" fill-rule=\"nonzero\" fill-opacity=\"1\" /><path clip-path=\"url(#clip750)\" d=\"M103.505 464.195 L109.711 464.195 L109.711 442.773 L102.959 444.127 L102.959 440.666 L109.674 439.312 L113.473 439.312 L113.473 464.195 L119.68 464.195 L119.68 467.392 L103.505 467.392 L103.505 464.195 Z\" fill=\"#000000\" fill-rule=\"nonzero\" fill-opacity=\"1\" /><path clip-path=\"url(#clip750)\" d=\"M135.478 441.814 Q132.544 441.814 131.058 444.71 Q129.591 447.588 129.591 453.38 Q129.591 459.154 131.058 462.051 Q132.544 464.928 135.478 464.928 Q138.431 464.928 139.898 462.051 Q141.384 459.154 141.384 453.38 Q141.384 447.588 139.898 444.71 Q138.431 441.814 135.478 441.814 M135.478 438.804 Q140.199 438.804 142.681 442.547 Q145.183 446.271 145.183 453.38 Q145.183 460.471 142.681 464.214 Q140.199 467.938 135.478 467.938 Q130.757 467.938 128.256 464.214 Q125.773 460.471 125.773 453.38 Q125.773 446.271 128.256 442.547 Q130.757 438.804 135.478 438.804 Z\" fill=\"#000000\" fill-rule=\"nonzero\" fill-opacity=\"1\" /><polyline clip-path=\"url(#clip752)\" style=\"stroke:#009af9; stroke-linecap:round; stroke-linejoin:round; stroke-width:4; stroke-opacity:1; fill:none\" points=\"242.642,1433.78 263.336,1433.73 284.029,1433.66 304.723,1433.58 325.416,1433.47 346.11,1433.34 366.803,1433.17 387.497,1432.95 408.19,1432.67 428.884,1432.32 449.577,1431.86 470.271,1431.27 490.964,1430.52 511.658,1429.54 532.351,1428.28 553.045,1426.64 573.738,1424.52 594.432,1421.79 615.125,1418.3 635.818,1413.91 656.512,1408.5 677.205,1401.99 697.899,1394.36 718.592,1385.65 739.286,1375.96 759.979,1365.4 780.673,1354.1 801.366,1342.18 822.06,1329.75 842.753,1316.9 863.447,1303.71 884.14,1290.24 904.834,1276.53 925.527,1262.65 946.221,1248.6 966.914,1234.44 987.608,1220.16 1008.3,1205.8 1028.99,1191.36 1049.69,1176.85 1070.38,1162.27 1091.07,1147.63 1111.77,1132.92 1132.46,1118.14 1153.16,1103.28 1173.85,1088.32 1194.54,1073.27 1215.24,1058.09 1235.93,1042.76 1256.62,1027.27 1277.32,1011.59 1298.01,995.699 1318.7,979.569 1339.4,963.182 1360.09,946.523 1380.78,929.583 1401.48,912.36 1422.17,894.86 1442.86,877.095 1463.56,859.084 1484.25,840.848 1504.94,822.413 1525.64,803.803 1546.33,785.043 1567.02,766.157 1587.72,747.164 1608.41,728.082 1629.11,708.929 1649.8,689.716 1670.49,670.456 1691.19,651.157 1711.88,631.827 1732.57,612.472 1753.27,593.097 1773.96,573.706 1794.65,554.303 1815.35,534.889 1836.04,515.468 1856.73,496.04 1877.43,476.607 1898.12,457.169 1918.81,437.729 1939.51,418.286 1960.2,398.841 1980.89,379.395 2001.59,359.947 2022.28,340.498 2042.97,321.049 2063.67,301.599 2084.36,282.148 2105.06,262.697 2125.75,243.245 2146.44,223.794 2167.14,204.342 2187.83,184.89 2208.52,165.438 2229.22,145.986 2249.91,126.533 2270.6,107.081 2291.3,87.6286 \"/>\n",
       "<path clip-path=\"url(#clip750)\" d=\"M2010.78 198.488 L2280.37 198.488 L2280.37 94.8081 L2010.78 94.8081  Z\" fill=\"#ffffff\" fill-rule=\"evenodd\" fill-opacity=\"1\"/>\n",
       "<polyline clip-path=\"url(#clip750)\" style=\"stroke:#000000; stroke-linecap:round; stroke-linejoin:round; stroke-width:4; stroke-opacity:1; fill:none\" points=\"2010.78,198.488 2280.37,198.488 2280.37,94.8081 2010.78,94.8081 2010.78,198.488 \"/>\n",
       "<polyline clip-path=\"url(#clip750)\" style=\"stroke:#009af9; stroke-linecap:round; stroke-linejoin:round; stroke-width:4; stroke-opacity:1; fill:none\" points=\"2034.91,146.648 2179.68,146.648 \"/>\n",
       "<path clip-path=\"url(#clip750)\" d=\"M2217.65 166.336 Q2215.85 170.965 2214.14 172.377 Q2212.42 173.789 2209.55 173.789 L2206.15 173.789 L2206.15 170.224 L2208.65 170.224 Q2210.41 170.224 2211.38 169.391 Q2212.35 168.558 2213.53 165.456 L2214.3 163.511 L2203.81 138.002 L2208.33 138.002 L2216.43 158.28 L2224.53 138.002 L2229.04 138.002 L2217.65 166.336 Z\" fill=\"#000000\" fill-rule=\"nonzero\" fill-opacity=\"1\" /><path clip-path=\"url(#clip750)\" d=\"M2236.33 159.993 L2243.97 159.993 L2243.97 133.627 L2235.66 135.294 L2235.66 131.035 L2243.93 129.368 L2248.6 129.368 L2248.6 159.993 L2256.24 159.993 L2256.24 163.928 L2236.33 163.928 L2236.33 159.993 Z\" fill=\"#000000\" fill-rule=\"nonzero\" fill-opacity=\"1\" /></svg>\n"
      ]
     },
     "metadata": {},
     "output_type": "display_data"
    }
   ],
   "source": [
    "using Plots\n",
    "\n",
    "z = 10 .^(range(-2,stop=8,length=100))\n",
    "\n",
    "println(PLANCK18.Ω_m0, \" \", PLANCK18.Ω_r0, \" \", PLANCK18.Ω_Λ0)\n",
    "\n",
    "Ω_r = MyCosmology.Ω_r.(z)\n",
    "Ω_m = MyCosmology.Ω_m.(z)\n",
    "Ω_Λ = MyCosmology.Ω_Λ.(z)\n",
    "\n",
    "ρ_r = MyCosmology.ρ_r_Msun_Mpc3.(z)\n",
    "ρ_m = MyCosmology.ρ_m_Msun_Mpc3.(z)\n",
    "ρ_Λ = MyCosmology.ρ_Λ_Msun_Mpc3.(z)\n",
    "ρ_c = MyCosmology.ρ_c_Msun_Mpc3.(z)\n",
    "\n",
    "#plot(z, Ω_r)\n",
    "plot(z, MyCosmology.hubble_evolution.(z), yscale=:log10)\n",
    "#plot!(z, Ω_m)\n",
    "#plot!(z, Ω_Λ)\n",
    "plot!(size=(600, 400), xscale=:log10,  minorgrid=false)"
   ]
  },
  {
   "cell_type": "code",
   "execution_count": 4,
   "metadata": {},
   "outputs": [
    {
     "name": "stderr",
     "output_type": "stream",
     "text": [
      "WARNING: replacing module Halos.\n"
     ]
    },
    {
     "data": {
      "text/plain": [
       "BenchmarkTools.Trial: 10000 samples with 992 evaluations.\n",
       " Range \u001b[90m(\u001b[39m\u001b[36m\u001b[1mmin\u001b[22m\u001b[39m … \u001b[35mmax\u001b[39m\u001b[90m):  \u001b[39m\u001b[36m\u001b[1m39.987 ns\u001b[22m\u001b[39m … \u001b[35m 2.670 μs\u001b[39m  \u001b[90m┊\u001b[39m GC \u001b[90m(\u001b[39mmin … max\u001b[90m): \u001b[39m0.00% … 98.18%\n",
       " Time  \u001b[90m(\u001b[39m\u001b[34m\u001b[1mmedian\u001b[22m\u001b[39m\u001b[90m):     \u001b[39m\u001b[34m\u001b[1m41.666 ns              \u001b[22m\u001b[39m\u001b[90m┊\u001b[39m GC \u001b[90m(\u001b[39mmedian\u001b[90m):    \u001b[39m0.00%\n",
       " Time  \u001b[90m(\u001b[39m\u001b[32m\u001b[1mmean\u001b[22m\u001b[39m ± \u001b[32mσ\u001b[39m\u001b[90m):   \u001b[39m\u001b[32m\u001b[1m44.458 ns\u001b[22m\u001b[39m ± \u001b[32m71.456 ns\u001b[39m  \u001b[90m┊\u001b[39m GC \u001b[90m(\u001b[39mmean ± σ\u001b[90m):  \u001b[39m5.07% ±  3.10%\n",
       "\n",
       "  \u001b[39m▃\u001b[39m▆\u001b[39m▅\u001b[39m▂\u001b[39m \u001b[39m▁\u001b[39m \u001b[39m▆\u001b[34m█\u001b[39m\u001b[39m▄\u001b[39m▁\u001b[39m▁\u001b[39m▁\u001b[39m \u001b[39m▂\u001b[39m▄\u001b[39m▂\u001b[39m▁\u001b[39m▁\u001b[39m▂\u001b[39m▃\u001b[39m▂\u001b[32m▃\u001b[39m\u001b[39m▃\u001b[39m▁\u001b[39m \u001b[39m \u001b[39m \u001b[39m \u001b[39m \u001b[39m \u001b[39m \u001b[39m \u001b[39m \u001b[39m \u001b[39m \u001b[39m \u001b[39m \u001b[39m \u001b[39m \u001b[39m \u001b[39m \u001b[39m \u001b[39m \u001b[39m \u001b[39m \u001b[39m \u001b[39m \u001b[39m \u001b[39m \u001b[39m \u001b[39m \u001b[39m \u001b[39m \u001b[39m \u001b[39m \u001b[39m \u001b[39m \u001b[39m \u001b[39m \u001b[39m▂\n",
       "  \u001b[39m█\u001b[39m█\u001b[39m█\u001b[39m█\u001b[39m█\u001b[39m█\u001b[39m▇\u001b[39m█\u001b[34m█\u001b[39m\u001b[39m█\u001b[39m█\u001b[39m█\u001b[39m█\u001b[39m█\u001b[39m█\u001b[39m█\u001b[39m█\u001b[39m█\u001b[39m█\u001b[39m█\u001b[39m█\u001b[39m█\u001b[32m█\u001b[39m\u001b[39m█\u001b[39m█\u001b[39m█\u001b[39m▇\u001b[39m▇\u001b[39m▇\u001b[39m▇\u001b[39m▆\u001b[39m▇\u001b[39m▆\u001b[39m▇\u001b[39m▅\u001b[39m▆\u001b[39m▇\u001b[39m▆\u001b[39m▇\u001b[39m▆\u001b[39m▆\u001b[39m▅\u001b[39m▅\u001b[39m▅\u001b[39m▃\u001b[39m▄\u001b[39m▄\u001b[39m▄\u001b[39m▄\u001b[39m▅\u001b[39m▃\u001b[39m▄\u001b[39m▃\u001b[39m▄\u001b[39m▅\u001b[39m▄\u001b[39m▄\u001b[39m▄\u001b[39m▃\u001b[39m \u001b[39m█\n",
       "  40 ns\u001b[90m        \u001b[39m\u001b[90mHistogram: \u001b[39m\u001b[90m\u001b[1mlog(\u001b[22m\u001b[39m\u001b[90mfrequency\u001b[39m\u001b[90m\u001b[1m)\u001b[22m\u001b[39m\u001b[90m by time\u001b[39m        52 ns \u001b[0m\u001b[1m<\u001b[22m\n",
       "\n",
       " Memory estimate\u001b[90m: \u001b[39m\u001b[33m48 bytes\u001b[39m, allocs estimate\u001b[90m: \u001b[39m\u001b[33m2\u001b[39m."
      ]
     },
     "metadata": {},
     "output_type": "display_data"
    }
   ],
   "source": [
    "using BenchmarkTools\n",
    "include(\"../src/Halos.jl\")\n",
    "\n",
    "Halos.cΔ_from_ρs(10 * Msun / kpc^3)\n",
    "Halos.ρs_from_cΔ(10)\n",
    "Halos.rs_from_cΔ_and_mΔ(10., 10. * Msun)\n",
    "h = Halos.Halo_from_mΔ_and_cΔ(Halos.NFWProfile, 1e+12 * Msun, 10) \n",
    "\n",
    "@benchmark h.ρs"
   ]
  },
  {
   "cell_type": "code",
   "execution_count": null,
   "metadata": {},
   "outputs": [],
   "source": [
    "using NLsolve\n",
    "using BenchmarkTools\n",
    "\n",
    "function f!(F, x)\n",
    "    F[1] = (x[1]+3)*(x[2]^3-7)+18\n",
    "    F[2] = sin(x[2]*exp(x[1])-1)\n",
    "end\n",
    "\n",
    "function j!(J, x)\n",
    "    J[1, 1] = x[2]^3-7\n",
    "    J[1, 2] = 3*x[2]^2*(x[1]+3)\n",
    "    u = exp(x[1])*cos(x[2]*exp(x[1])-1)\n",
    "    J[2, 1] = x[2]*u\n",
    "    J[2, 2] = u\n",
    "end\n",
    "\n",
    "nlsolve(f!, j!, [ 0.1; 1.2])\n",
    "println(nlsolve(f!, [ 0.1; 1.2]))\n",
    "\n",
    "func(x, y) = ((x+3)*(y^3-7)+18, sin(y*exp(x)-1))\n",
    "println(func(0, 1))"
   ]
  },
  {
   "cell_type": "code",
   "execution_count": null,
   "metadata": {},
   "outputs": [],
   "source": [
    "using Unitful\n",
    "import Unitful: km, s, Gyr, rad\n",
    "import UnitfulAstro: Mpc, Gpc, Msun, kpc, pc\n",
    "\n",
    "D1 = 3.0 \n",
    "D2 = 6.0 \n",
    "DS = 8.0 \n",
    "\n",
    "M1 = 100.0\n",
    "M2 = 100.0\n",
    "\n",
    "# For the first test let us imagine everything is in the same plane\n",
    "\n",
    "y1 = [1e-8, 0.] \n",
    "y2 = [0, 1e-8] \n",
    "\n",
    "function alpha(x, y, M)\n",
    "    return 4 .* M * (x .- y) ./ sum((x .- y) .* (x .- y)) * 4.3e-6 / (3e+6)^2  \n",
    "end\n",
    "\n",
    "function f!(F, x)\n",
    "    F[1] = x[1] -  D1 * (1. - D1/DS) * alpha([x[1], x[2]], y1, M1)[1] + D1 * (1. - D2/DS)*alpha([x[3], x[4]], y2, M2)[1]\n",
    "    F[2] = x[2] -  D1 * (1. - D1/DS) * alpha([x[1], x[2]], y1, M1)[2] + D1 * (1. - D2/DS)*alpha([x[3], x[4]], y2, M2)[2]\n",
    "    F[3] = x[3] -  D2 * (D1/D2 - D2/DS) * alpha([x[1], x[2]], y1, M1)[1] + D2 * (1. - D2/DS)*alpha([x[3], x[4]], y2, M2)[1]\n",
    "    F[4] = x[4] -  D2 * (D1/D2 - D2/DS) * alpha([x[1], x[2]], y1, M1)[2] + D2 * (1. - D2/DS)*alpha([x[3], x[4]], y2, M2)[2]\n",
    "end\n",
    "\n",
    "function theta(x, D1)\n",
    "    return x[1:2] ./ D1 * 206265e+6\n",
    "end\n",
    "\n",
    "res = nlsolve(f!, [0., 0., 0., 0.]).zero\n",
    "\n",
    "println(theta(res, D1))\n"
   ]
  },
  {
   "cell_type": "code",
   "execution_count": 3,
   "metadata": {},
   "outputs": [
    {
     "name": "stdout",
     "output_type": "stream",
     "text": [
      "Halo{Float64}(1.2 M⊙ kpc⁻³, 4.0 kpc)\n"
     ]
    },
    {
     "data": {
      "text/plain": [
       "BenchmarkTools.Trial: 10000 samples with 977 evaluations.\n",
       " Range \u001b[90m(\u001b[39m\u001b[36m\u001b[1mmin\u001b[22m\u001b[39m … \u001b[35mmax\u001b[39m\u001b[90m):  \u001b[39m\u001b[36m\u001b[1m69.004 ns\u001b[22m\u001b[39m … \u001b[35m 1.313 μs\u001b[39m  \u001b[90m┊\u001b[39m GC \u001b[90m(\u001b[39mmin … max\u001b[90m): \u001b[39m0.00% … 94.10%\n",
       " Time  \u001b[90m(\u001b[39m\u001b[34m\u001b[1mmedian\u001b[22m\u001b[39m\u001b[90m):     \u001b[39m\u001b[34m\u001b[1m74.378 ns              \u001b[22m\u001b[39m\u001b[90m┊\u001b[39m GC \u001b[90m(\u001b[39mmedian\u001b[90m):    \u001b[39m0.00%\n",
       " Time  \u001b[90m(\u001b[39m\u001b[32m\u001b[1mmean\u001b[22m\u001b[39m ± \u001b[32mσ\u001b[39m\u001b[90m):   \u001b[39m\u001b[32m\u001b[1m77.609 ns\u001b[22m\u001b[39m ± \u001b[32m34.445 ns\u001b[39m  \u001b[90m┊\u001b[39m GC \u001b[90m(\u001b[39mmean ± σ\u001b[90m):  \u001b[39m1.38% ±  2.94%\n",
       "\n",
       "  \u001b[39m▂\u001b[39m▃\u001b[39m \u001b[39m \u001b[39m \u001b[39m \u001b[39m▂\u001b[39m \u001b[39m▂\u001b[39m▂\u001b[39m█\u001b[34m█\u001b[39m\u001b[39m▂\u001b[39m▂\u001b[39m▃\u001b[39m▄\u001b[39m▆\u001b[39m▄\u001b[32m▂\u001b[39m\u001b[39m▂\u001b[39m▃\u001b[39m▄\u001b[39m▆\u001b[39m▃\u001b[39m▁\u001b[39m▁\u001b[39m▁\u001b[39m▁\u001b[39m▁\u001b[39m▁\u001b[39m \u001b[39m \u001b[39m \u001b[39m \u001b[39m \u001b[39m \u001b[39m \u001b[39m \u001b[39m \u001b[39m \u001b[39m \u001b[39m \u001b[39m \u001b[39m \u001b[39m \u001b[39m \u001b[39m \u001b[39m \u001b[39m \u001b[39m \u001b[39m \u001b[39m \u001b[39m \u001b[39m \u001b[39m \u001b[39m \u001b[39m \u001b[39m \u001b[39m \u001b[39m \u001b[39m▂\n",
       "  \u001b[39m█\u001b[39m█\u001b[39m▅\u001b[39m▄\u001b[39m▅\u001b[39m▅\u001b[39m█\u001b[39m█\u001b[39m█\u001b[39m█\u001b[39m█\u001b[34m█\u001b[39m\u001b[39m█\u001b[39m█\u001b[39m█\u001b[39m█\u001b[39m█\u001b[39m█\u001b[32m█\u001b[39m\u001b[39m█\u001b[39m█\u001b[39m█\u001b[39m█\u001b[39m█\u001b[39m█\u001b[39m█\u001b[39m█\u001b[39m█\u001b[39m█\u001b[39m█\u001b[39m█\u001b[39m█\u001b[39m▇\u001b[39m▇\u001b[39m▇\u001b[39m▇\u001b[39m▆\u001b[39m▆\u001b[39m▆\u001b[39m▆\u001b[39m▆\u001b[39m▅\u001b[39m▆\u001b[39m▄\u001b[39m▅\u001b[39m▆\u001b[39m▆\u001b[39m▅\u001b[39m▃\u001b[39m▅\u001b[39m▅\u001b[39m▄\u001b[39m▃\u001b[39m▄\u001b[39m▃\u001b[39m▄\u001b[39m▅\u001b[39m▄\u001b[39m▃\u001b[39m \u001b[39m█\n",
       "  69 ns\u001b[90m        \u001b[39m\u001b[90mHistogram: \u001b[39m\u001b[90m\u001b[1mlog(\u001b[22m\u001b[39m\u001b[90mfrequency\u001b[39m\u001b[90m\u001b[1m)\u001b[22m\u001b[39m\u001b[90m by time\u001b[39m        97 ns \u001b[0m\u001b[1m<\u001b[22m\n",
       "\n",
       " Memory estimate\u001b[90m: \u001b[39m\u001b[33m48 bytes\u001b[39m, allocs estimate\u001b[90m: \u001b[39m\u001b[33m3\u001b[39m."
      ]
     },
     "metadata": {},
     "output_type": "display_data"
    }
   ],
   "source": [
    "using Unitful\n",
    "import Unitful: Length, Density, Mass\n",
    "import UnitfulAstro: Mpc, Gpc, Msun, kpc, pc\n",
    "using BenchmarkTools\n",
    "\n",
    "abstract type MyType{T<:Real} end\n",
    "\n",
    "struct MyOwnSubType{T<:Real} <: MyType{T}\n",
    "    a::T\n",
    "    b::T\n",
    "end\n",
    "\n",
    "MyOwnSubType(a::Real, b::Real) = MyOwnSubType(promote(a, b)...)\n",
    "example_a::MyType = MyOwnSubType(1.2, 3)\n",
    "\n",
    "MyOwnSubType{Float16} <: MyType\n",
    "\n",
    "struct Halo{T<:Real}\n",
    "    ρs::Density{T}\n",
    "    rs::Length{T}\n",
    "end\n",
    "\n",
    "ρs_0 = Msun / kpc^3\n",
    "rs_0 = kpc\n",
    "\n",
    "#Halo(ρs::Density{<:Real}, rs::Length{<:Real}) = Halo(promote(ρs/ρs_0, rs/rs_0)...)\n",
    "#Halo(ρs::Real, rs::Real) = Halo(promote(ρs, rs)...)\n",
    "\n",
    "halo = Halo(1.2 * Msun / kpc^3, 4.0 * kpc)\n",
    "\n",
    "println(halo)\n",
    "\n",
    "mass(h::Halo) = 4. / 3. * pi * h.ρs * h.rs^3 #* Msun \n",
    "\n",
    "@benchmark mass(halo)\n"
   ]
  },
  {
   "cell_type": "code",
   "execution_count": 12,
   "metadata": {},
   "outputs": [
    {
     "ename": "ErrorException",
     "evalue": "promotion of types Quantity{Float64, 𝐋, Unitful.FreeUnits{(m,), 𝐋, nothing}} and UnionAll failed to change any arguments",
     "output_type": "error",
     "traceback": [
      "promotion of types Quantity{Float64, 𝐋, Unitful.FreeUnits{(m,), 𝐋, nothing}} and UnionAll failed to change any arguments\n",
      "\n",
      "Stacktrace:\n",
      " [1] error(::String, ::String, ::String)\n",
      "   @ Base ./error.jl:44\n",
      " [2] sametype_error(input::Tuple{Quantity{Float64, 𝐋, Unitful.FreeUnits{(m,), 𝐋, nothing}}, UnionAll})\n",
      "   @ Base ./promotion.jl:383\n",
      " [3] not_sametype(x::Tuple{Quantity{Float64, 𝐋, Unitful.FreeUnits{(m,), 𝐋, nothing}}, UnionAll}, y::Tuple{Quantity{Float64, 𝐋, Unitful.FreeUnits{(m,), 𝐋, nothing}}, UnionAll})\n",
      "   @ Base ./promotion.jl:377\n",
      " [4] promote(x::Quantity{Float64, 𝐋, Unitful.FreeUnits{(m,), 𝐋, nothing}}, y::Type)\n",
      "   @ Base ./promotion.jl:360\n",
      " [5] top-level scope\n",
      "   @ ~/Documents/work/codes/env_DarkUniverse/Cosmojuly/tests/test.ipynb:10"
     ]
    }
   ],
   "source": [
    "using Unitful\n",
    "\n",
    "length_value = 5.0\n",
    "mass_value = 2.0\n",
    "\n",
    "length = length_value * u\"m\"\n",
    "mass = mass_value * u\"kg\"\n",
    "\n",
    "promoted_type = promote_type(eltype(length), eltype(mass))\n",
    "promoted_length = promote(length, promoted_type)\n",
    "promoted_mass = promote(mass, promoted_type)\n"
   ]
  },
  {
   "cell_type": "code",
   "execution_count": 3,
   "metadata": {},
   "outputs": [
    {
     "data": {
      "text/plain": [
       "(Float64, Real)"
      ]
     },
     "metadata": {},
     "output_type": "display_data"
    }
   ],
   "source": []
  },
  {
   "cell_type": "code",
   "execution_count": null,
   "metadata": {},
   "outputs": [],
   "source": []
  }
 ],
 "metadata": {
  "kernelspec": {
   "display_name": "Julia 1.8.5",
   "language": "julia",
   "name": "julia-1.8"
  },
  "language_info": {
   "file_extension": ".jl",
   "mimetype": "application/julia",
   "name": "julia",
   "version": "1.8.5"
  },
  "orig_nbformat": 4
 },
 "nbformat": 4,
 "nbformat_minor": 2
}
